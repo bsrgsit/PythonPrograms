{
 "cells": [
  {
   "cell_type": "code",
   "execution_count": 17,
   "metadata": {
    "collapsed": false
   },
   "outputs": [
    {
     "name": "stdout",
     "output_type": "stream",
     "text": [
      "3\n",
      "-1 -2 3 -1\n"
     ]
    }
   ],
   "source": [
    "#https://www.hackerearth.com/problem/algorithm/mehta-and-subarrays/\n",
    "raw_input()\n",
    "y=map(int,raw_input().split())\n",
    "i=1\n",
    "n=[]\n",
    "while i<len(a):\n",
    "    \n",
    "    n=reduce(\n",
    "    lambda a, b: a if a[1] + b[1] ==0  else (a[0] + b[0], a[1] + b[1]),\n",
    "    map(lambda x: (1, x), y))\n",
    "    if n[1]>=0:\n",
    "        print n[0]\n",
    "    i+=1\n",
    "        \n",
    "        \n"
   ]
  },
  {
   "cell_type": "code",
   "execution_count": 19,
   "metadata": {
    "collapsed": false
   },
   "outputs": [
    {
     "data": {
      "text/plain": [
       "-4"
      ]
     },
     "execution_count": 19,
     "metadata": {},
     "output_type": "execute_result"
    }
   ],
   "source": [
    "n[1]"
   ]
  },
  {
   "cell_type": "code",
   "execution_count": 26,
   "metadata": {
    "collapsed": false
   },
   "outputs": [
    {
     "data": {
      "text/plain": [
       "(3, -4)"
      ]
     },
     "execution_count": 26,
     "metadata": {},
     "output_type": "execute_result"
    }
   ],
   "source": [
    "reduce(\n",
    "    lambda a, b: (a[0] + b[0], a[1] + b[1]) if a[1] + b[1] <0  else a,\n",
    "    map(lambda x: (1, x), y))"
   ]
  },
  {
   "cell_type": "code",
   "execution_count": 6,
   "metadata": {
    "collapsed": false
   },
   "outputs": [
    {
     "name": "stdout",
     "output_type": "stream",
     "text": [
      "1\n",
      "gg\n",
      "hard\n"
     ]
    }
   ],
   "source": [
    "#https://www.hackerearth.com/april-circuits/algorithm/circ-bear-and-vowels-2/\n",
    "#April Circuits\n",
    "import re\n",
    "conRegex = re.compile(r'[^aeiouyAEIOUY]')\n",
    "vowelRegex = re.compile(r'[aeiouyAEIOUY]')\n",
    "con=re.compile(r\"[^aeiouyAEIOUY]{3,}\")\n",
    "n=int(raw_input().strip())\n",
    "for i in range(n):\n",
    "    str1=str(raw_input().strip())\n",
    "    if len(conRegex.findall(str1)) > len(vowelRegex.findall(str1)):\n",
    "        print \"hard\"\n",
    "    elif con.findall(str1):\n",
    "        print \"hard\"\n",
    "    else:\n",
    "        print \"easy\"\n",
    "    \n",
    "    \n",
    "    "
   ]
  },
  {
   "cell_type": "markdown",
   "metadata": {
    "collapsed": true
   },
   "source": [
    "Limak is a brown bear, experienced in organizing programming contests. Today, his only responsibility is to watch the leaderboard and make sure that everything is displayed correctly.\n",
    "\n",
    "There are \n",
    "n\n",
    "n participants, numbered \n",
    "1\n",
    "1 through \n",
    "n\n",
    "n. Initially, every participant has \n",
    "0\n",
    "0 points. During the contest participants will gain more points and thus the leaderboard may change.\n",
    "\n",
    "You are given \n",
    "q\n",
    "q queries (events). The \n",
    "i\n",
    "i-th query contains two integers \n",
    "a\n",
    "i\n",
    "ai and \n",
    "b\n",
    "i\n",
    "bi. It denotes that a participant \n",
    "a\n",
    "i\n",
    "ai gets \n",
    "b\n",
    "i\n",
    "bi points (his/her number of points is increased by \n",
    "b\n",
    "i\n",
    "bi).\n",
    "\n",
    "For each participant, his or her place is equal to the number of participants with more points, increased by \n",
    "1\n",
    "1. You may refer to the sample explanation for an example.\n",
    "\n",
    "Let's define hash of participant as the product of his/her place and the number of points. After each query, Limak is going to find the sum of hashes of participants. Can you help him? After each query, print one line with the sum of hashes of participants.\n",
    "\n",
    "Input format\n",
    "\n",
    "The first line of the input contains two integers \n",
    "n\n",
    "n and \n",
    "q\n",
    "q — the number of participants and the number of queries, respectively.\n",
    "\n",
    "The next \n",
    "q\n",
    "q lines describe queries. The \n",
    "i\n",
    "i-th of them contains two integers \n",
    "a\n",
    "i\n",
    "ai and \n",
    "b\n",
    "i\n",
    "bi — the participant index and the number of gained points in the \n",
    "i\n",
    "i-th query.\n",
    "\n",
    "Output format\n",
    "\n",
    "After each query, output a single line containing the sum of hashes of participants.\n",
    "\n",
    "Constraints\n",
    "\n",
    "1\n",
    "≤\n",
    "n\n",
    ",\n",
    "q\n",
    "≤\n",
    "500\n",
    "000\n",
    "1≤n,q≤500000\n",
    "1\n",
    "≤\n",
    "a\n",
    "i\n",
    "≤\n",
    "n\n",
    "1≤ai≤n\n",
    "1\n",
    "≤\n",
    "b\n",
    "i\n",
    "≤\n",
    "10\n",
    "6\n",
    "1≤bi≤106\n",
    "Subtasks\n",
    "\n",
    "Extra constraints\tPoints\tWhich tests\n",
    "n\n",
    ",\n",
    "q\n",
    "≤\n",
    "2000\n",
    "n,q≤2000\t25\t1-10\n",
    "b\n",
    "i\n",
    "≤\n",
    "5\n",
    "bi≤5\t25\t11-20\n",
    "each participant will have at most \n",
    "10\n",
    "6\n",
    "106 points\t25\t21-30\n",
    "no extra constraints\t25\t31-40\n",
    "SAMPLE INPUT \n",
    "4 6\n",
    "3 100\n",
    "2 60\n",
    "1 80\n",
    "2 20\n",
    "1 20\n",
    "4 17\n",
    "SAMPLE OUTPUT \n",
    "100\n",
    "220\n",
    "440\n",
    "420\n",
    "440\n",
    "508\n",
    "Explanation\n",
    "In the sample test, there are \n",
    "n\n",
    "=\n",
    "4\n",
    "n=4 participants. Initially, all of them have \n",
    "0\n",
    "0 points, so they all have the \n",
    "1\n",
    "1-st place ex aequo.\n",
    "\n",
    "After the first query, participant \n",
    "3\n",
    "3 has \n",
    "100\n",
    "100 points and is winning, with hash equal to \n",
    "1\n",
    "⋅\n",
    "100\n",
    "=\n",
    "100\n",
    "1⋅100=100. The sum of hashes is \n",
    "100\n",
    "+\n",
    "0\n",
    "+\n",
    "0\n",
    "+\n",
    "0\n",
    "=\n",
    "100\n",
    "100+0+0+0=100.\n",
    "\n",
    "After the second query, participant \n",
    "2\n",
    "2 has the second place with \n",
    "60\n",
    "60 points and hash \n",
    "2\n",
    "⋅\n",
    "60\n",
    "=\n",
    "120\n",
    "2⋅60=120, in total \n",
    "100\n",
    "+\n",
    "120\n",
    "+\n",
    "0\n",
    "+\n",
    "0\n",
    "=\n",
    "220\n",
    "100+120+0+0=220.\n",
    "\n",
    "After the third query, the leaderboard looks like follows: \n",
    "(\n",
    "100\n",
    ",\n",
    "80\n",
    ",\n",
    "60\n",
    ",\n",
    "0\n",
    ")\n",
    "(100,80,60,0). The sum of hashes is \n",
    "100\n",
    "⋅\n",
    "1\n",
    "+\n",
    "80\n",
    "⋅\n",
    "2\n",
    "+\n",
    "60\n",
    "⋅\n",
    "3\n",
    "+\n",
    "0\n",
    "⋅\n",
    "4\n",
    "=\n",
    "100\n",
    "+\n",
    "160\n",
    "+\n",
    "180\n",
    "=\n",
    "440\n",
    "100⋅1+80⋅2+60⋅3+0⋅4=100+160+180=440.\n",
    "\n",
    "In the fourth query participant \n",
    "2\n",
    "2 gets \n",
    "20\n",
    "20 points and the leaderboard is \n",
    "(\n",
    "100\n",
    ",\n",
    "80\n",
    ",\n",
    "80\n",
    ",\n",
    "0\n",
    ")\n",
    "(100,80,80,0) then, with the sum \n",
    "100\n",
    "⋅\n",
    "1\n",
    "+\n",
    "80\n",
    "⋅\n",
    "2\n",
    "+\n",
    "80\n",
    "⋅\n",
    "2\n",
    "+\n",
    "0\n",
    "⋅\n",
    "4\n",
    "=\n",
    "420\n",
    "100⋅1+80⋅2+80⋅2+0⋅4=420.\n",
    "\n",
    "After the fifth query, the answer is \n",
    "100\n",
    "⋅\n",
    "1\n",
    "+\n",
    "100\n",
    "⋅\n",
    "1\n",
    "+\n",
    "80\n",
    "⋅\n",
    "3\n",
    "+\n",
    "0\n",
    "=\n",
    "440\n",
    "100⋅1+100⋅1+80⋅3+0=440.\n",
    "\n",
    "After the last query, \n",
    "100\n",
    "⋅\n",
    "1\n",
    "+\n",
    "100\n",
    "⋅\n",
    "1\n",
    "+\n",
    "80\n",
    "⋅\n",
    "3\n",
    "+\n",
    "17\n",
    "⋅\n",
    "4\n",
    "=\n",
    "508\n",
    "100⋅1+100⋅1+80⋅3+17⋅4=508.\n",
    "\n",
    "Time Limit:\t5.0 sec(s) for each input file."
   ]
  },
  {
   "cell_type": "code",
   "execution_count": 163,
   "metadata": {
    "collapsed": false
   },
   "outputs": [
    {
     "name": "stdout",
     "output_type": "stream",
     "text": [
      "4 6\n",
      "3 100\n",
      "[2 2 1 2]\n",
      "100\n",
      "2 60\n",
      "[3 2 1 3]\n",
      "220\n",
      "1 80\n",
      "[2 3 1 4]\n",
      "440\n",
      "2 20\n",
      "[2 2 1 4]\n",
      "420\n",
      "1 20\n",
      "[1 3 1 4]\n",
      "440\n",
      "4 17\n",
      "[1 3 1 4]\n",
      "508\n"
     ]
    }
   ],
   "source": [
    "import scipy.stats as ss\n",
    "dict1={}\n",
    "temp=[]\n",
    "n,q=map(int,raw_input().strip().split())\n",
    "if n<2000 and q<2000:\n",
    "    \n",
    "    for i in range(1,n+1):\n",
    "        dict1.update({i:0})\n",
    "    for i in range(q):\n",
    "        a,b=map(int,raw_input().strip().split())\n",
    "        if (dict1[a]<1000000):\n",
    "            dict1[a]=(dict1[a]+b)\n",
    "            temp=(len(dict1)+1)-ss.rankdata(dict1.values(),method=\"max\").astype(int)\n",
    "            \n",
    "            print sum([temp[i]*dict1.values()[i] for i in range(len(dict1))])\n",
    "        else:\n",
    "            continue\n",
    "            \n",
    "            \n",
    "            "
   ]
  },
  {
   "cell_type": "code",
   "execution_count": 120,
   "metadata": {
    "collapsed": false
   },
   "outputs": [
    {
     "ename": "TypeError",
     "evalue": "unsupported operand type(s) for -: 'int' and 'list'",
     "output_type": "error",
     "traceback": [
      "\u001b[1;31m---------------------------------------------------------------------------\u001b[0m",
      "\u001b[1;31mTypeError\u001b[0m                                 Traceback (most recent call last)",
      "\u001b[1;32m<ipython-input-120-2d92bed3957f>\u001b[0m in \u001b[0;36m<module>\u001b[1;34m()\u001b[0m\n\u001b[0;32m      1\u001b[0m \u001b[1;32mimport\u001b[0m \u001b[0mscipy\u001b[0m\u001b[1;33m.\u001b[0m\u001b[0mstats\u001b[0m \u001b[1;32mas\u001b[0m \u001b[0mss\u001b[0m\u001b[1;33m\u001b[0m\u001b[0m\n\u001b[0;32m      2\u001b[0m \u001b[0ma\u001b[0m\u001b[1;33m=\u001b[0m\u001b[1;33m[\u001b[0m\u001b[1;36m4\u001b[0m\u001b[1;33m,\u001b[0m\u001b[1;36m1\u001b[0m\u001b[1;33m,\u001b[0m\u001b[1;36m4\u001b[0m\u001b[1;33m,\u001b[0m\u001b[1;36m15\u001b[0m\u001b[1;33m,\u001b[0m\u001b[1;36m15\u001b[0m\u001b[1;33m]\u001b[0m\u001b[1;33m\u001b[0m\u001b[0m\n\u001b[1;32m----> 3\u001b[1;33m \u001b[0ml\u001b[0m\u001b[1;33m=\u001b[0m\u001b[1;33m(\u001b[0m\u001b[0mlen\u001b[0m\u001b[1;33m(\u001b[0m\u001b[0ma\u001b[0m\u001b[1;33m)\u001b[0m\u001b[1;33m+\u001b[0m\u001b[1;36m1\u001b[0m\u001b[1;33m)\u001b[0m\u001b[1;33m-\u001b[0m\u001b[0mmap\u001b[0m\u001b[1;33m(\u001b[0m\u001b[0mint\u001b[0m\u001b[1;33m,\u001b[0m\u001b[0mss\u001b[0m\u001b[1;33m.\u001b[0m\u001b[0mrankdata\u001b[0m\u001b[1;33m(\u001b[0m\u001b[0msorted\u001b[0m\u001b[1;33m(\u001b[0m\u001b[0ma\u001b[0m\u001b[1;33m,\u001b[0m\u001b[0mreverse\u001b[0m\u001b[1;33m=\u001b[0m\u001b[0mTrue\u001b[0m\u001b[1;33m)\u001b[0m\u001b[1;33m)\u001b[0m\u001b[1;33m)\u001b[0m\u001b[1;33m\u001b[0m\u001b[0m\n\u001b[0m\u001b[0;32m      4\u001b[0m \u001b[0mm\u001b[0m\u001b[1;33m=\u001b[0m\u001b[0msorted\u001b[0m\u001b[1;33m(\u001b[0m\u001b[0ma\u001b[0m\u001b[1;33m,\u001b[0m\u001b[0mreverse\u001b[0m\u001b[1;33m=\u001b[0m\u001b[0mTrue\u001b[0m\u001b[1;33m)\u001b[0m\u001b[1;33m\u001b[0m\u001b[0m\n\u001b[0;32m      5\u001b[0m \u001b[1;32mprint\u001b[0m \u001b[1;33m[\u001b[0m\u001b[0ml\u001b[0m\u001b[1;33m[\u001b[0m\u001b[0mi\u001b[0m\u001b[1;33m]\u001b[0m\u001b[1;33m*\u001b[0m\u001b[0mm\u001b[0m\u001b[1;33m[\u001b[0m\u001b[0mi\u001b[0m\u001b[1;33m]\u001b[0m \u001b[1;32mfor\u001b[0m \u001b[0mi\u001b[0m \u001b[1;32min\u001b[0m \u001b[0mrange\u001b[0m\u001b[1;33m(\u001b[0m\u001b[0mlen\u001b[0m\u001b[1;33m(\u001b[0m\u001b[0ml\u001b[0m\u001b[1;33m)\u001b[0m\u001b[1;33m)\u001b[0m\u001b[1;33m]\u001b[0m\u001b[1;33m\u001b[0m\u001b[0m\n",
      "\u001b[1;31mTypeError\u001b[0m: unsupported operand type(s) for -: 'int' and 'list'"
     ]
    }
   ],
   "source": [
    "import scipy.stats as ss\n",
    "a=[4,1,4,15,15]\n",
    "l=(len(a)+1)-map(int,ss.rankdata(sorted(a,reverse=True)))\n",
    "m=sorted(a,reverse=True)\n",
    "print [l[i]*m[i] for i in range(len(l))]"
   ]
  },
  {
   "cell_type": "code",
   "execution_count": 119,
   "metadata": {
    "collapsed": false
   },
   "outputs": [
    {
     "data": {
      "text/plain": [
       "[1, 1, 3, 3, 5]"
      ]
     },
     "execution_count": 119,
     "metadata": {},
     "output_type": "execute_result"
    }
   ],
   "source": [
    "map(int,l)"
   ]
  },
  {
   "cell_type": "code",
   "execution_count": null,
   "metadata": {
    "collapsed": false
   },
   "outputs": [],
   "source": []
  },
  {
   "cell_type": "code",
   "execution_count": 160,
   "metadata": {
    "collapsed": false
   },
   "outputs": [
    {
     "data": {
      "text/plain": [
       "array([8, 6, 3, 1, 3, 6, 3, 1])"
      ]
     },
     "execution_count": 160,
     "metadata": {},
     "output_type": "execute_result"
    }
   ],
   "source": [
    "a = [1,2,3,4,3,2,3,4]\n",
    "(len(a)+1)-ss.rankdata(a,method=\"max\").astype(int)\n"
   ]
  },
  {
   "cell_type": "code",
   "execution_count": 91,
   "metadata": {
    "collapsed": false
   },
   "outputs": [
    {
     "data": {
      "text/plain": [
       "array([2, 2, 4, 4, 5])"
      ]
     },
     "execution_count": 91,
     "metadata": {},
     "output_type": "execute_result"
    }
   ],
   "source": [
    "l"
   ]
  },
  {
   "cell_type": "code",
   "execution_count": 243,
   "metadata": {
    "collapsed": false
   },
   "outputs": [
    {
     "name": "stdout",
     "output_type": "stream",
     "text": [
      "4 5\n",
      "1 100\n",
      "100\n",
      "2 50\n",
      "200\n",
      "3 80\n",
      "410\n",
      "4 80\n",
      "620\n",
      "1 100\n",
      "720\n"
     ]
    }
   ],
   "source": [
    "import scipy.stats as ss\n",
    "dict1={}\n",
    "temp=[]\n",
    "n,q=map(int,raw_input().strip().split())\n",
    "\n",
    "\n",
    "for i in range(1,n+1):\n",
    "    dict1.update({i:0})\n",
    "for i in range(q):\n",
    "    a,b=map(int,raw_input().strip().split())\n",
    "   \n",
    "    dict1[a]=(dict1[a]+b)\n",
    "    temp=(len(dict1)+1)-ss.rankdata(dict1.values(),method=\"max\").astype(int)\n",
    "    print sum([temp[i]*dict1.values()[i] for i in range(len(dict1))])\n",
    "    \n"
   ]
  },
  {
   "cell_type": "code",
   "execution_count": 242,
   "metadata": {
    "collapsed": false
   },
   "outputs": [
    {
     "name": "stdout",
     "output_type": "stream",
     "text": [
      "['33445566778', '4123456789123450', '5398', '7654', '3213', '0986']\n"
     ]
    }
   ],
   "source": [
    "#Finding out numbers in the string\n",
    "#Asked by a friend to help him out\n",
    "value = \"Customer1 – 33445566778 Customer1 4123-4567-8912-3450, Customer2 – 5398 7654 3213 0986\"\n",
    "\n",
    "import string\n",
    "punc = string.punctuation\n",
    "\n",
    "for char in value:\n",
    "    if char in punc:\n",
    "        value=value.replace(char,\"\")\n",
    "num=[s for s in value.strip().split() if s.isdigit()]\n",
    "\n",
    "for i in num:\n",
    "    if i.isalnum() and not i.isdigit():\n",
    "        num.pop(num.index(i))\n",
    "    \n",
    "print num\n"
   ]
  },
  {
   "cell_type": "code",
   "execution_count": 299,
   "metadata": {
    "collapsed": false
   },
   "outputs": [
    {
     "name": "stdout",
     "output_type": "stream",
     "text": [
      "4 5\n",
      "2 -100\n",
      "-400\n",
      "1 100\n",
      "-300\n",
      "2 100\n",
      "100\n",
      "3 400\n",
      "600\n",
      "1 200\n",
      "1000\n"
     ]
    }
   ],
   "source": [
    "import scipy.stats as ss\n",
    "\n",
    "#dict1={}\n",
    "\n",
    "temp=[]\n",
    "n,q=map(int,raw_input().strip().split())\n",
    "list1=[0]*n\n",
    "\n",
    "\n",
    "for i in range(q):\n",
    "    a,b=map(int,raw_input().strip().split())\n",
    "    \n",
    "    list1[a-1]=(list1[a-1]+b)\n",
    "    temp=(n+1)-ss.rankdata(list1,method=\"max\")\n",
    "    print sum(map(int,(a*b for a,b in zip(temp,list1))))\n",
    "    \n",
    "  "
   ]
  },
  {
   "cell_type": "code",
   "execution_count": null,
   "metadata": {
    "collapsed": false
   },
   "outputs": [],
   "source": [
    "import fractions \n",
    "x=int(raw_input().strip())\n",
    "prod=0\n",
    "for i in range(x):\n",
    "    n,m=map(int,raw_input().strip().split())\n",
    "    list1=[i for i in range(1,n+1)]\n",
    "    for a in range(n):\n",
    "        for b in range(a,n+1):\n",
    "    prod*=gcd((list1.index[a]-list1.index[b]),)\n",
    "    "
   ]
  },
  {
   "cell_type": "code",
   "execution_count": null,
   "metadata": {
    "collapsed": false
   },
   "outputs": [],
   "source": []
  },
  {
   "cell_type": "code",
   "execution_count": null,
   "metadata": {
    "collapsed": false
   },
   "outputs": [],
   "source": []
  },
  {
   "cell_type": "code",
   "execution_count": null,
   "metadata": {
    "collapsed": true
   },
   "outputs": [],
   "source": []
  }
 ],
 "metadata": {
  "kernelspec": {
   "display_name": "Python 2",
   "language": "python",
   "name": "python2"
  },
  "language_info": {
   "codemirror_mode": {
    "name": "ipython",
    "version": 2
   },
   "file_extension": ".py",
   "mimetype": "text/x-python",
   "name": "python",
   "nbconvert_exporter": "python",
   "pygments_lexer": "ipython2",
   "version": "2.7.11"
  }
 },
 "nbformat": 4,
 "nbformat_minor": 0
}
