{
 "cells": [
  {
   "cell_type": "code",
   "execution_count": 55,
   "metadata": {
    "collapsed": false
   },
   "outputs": [
    {
     "name": "stdout",
     "output_type": "stream",
     "text": [
      "i hope you didnt translate it by hand thats what computers are for. doing it in by hand is inefficient and that's why this text is so long. using string.maketrans() is recommended. now apply on the url.\n"
     ]
    }
   ],
   "source": [
    "#1\n",
    "import string \n",
    "a = \"g fmnc wms bgblr rpylqjyrc gr zw fylb rfyrq ufyr amknsrcpq ypc dmp. bmgle gr gl zw fylb gq glcddgagclr ylb rfyr'q ufw rfgq rcvr gq qm jmle. sqgle qrpgle.kyicrpylq() gq pcamkkclbcb. lmu ynnjw ml rfc spj.\"\n",
    "chars ='abcdefghijklmnopqrstuvwxyz'\n",
    "pos=0\n",
    "new=[]\n",
    "\"\"\"if any((c in chars) for c in a):\n",
    "    print('Found')\n",
    "else:\n",
    "    print('Not Found')\"\"\"\n",
    "\n",
    "\"\"\"for alph in a:\n",
    "    for beta in chars:\n",
    "        \n",
    "        if alph==' ' or alph == \"'\" or alph==\".\":\n",
    "            new.append(alph)\n",
    "        elif alph==beta:\n",
    "            \n",
    "            new.append(chars[(chars.index(alph)+2)%26])\n",
    "            \"\"\"\n",
    "for alph in a:\n",
    "    if alph in chars:\n",
    "        new.append(chars[(chars.index(alph)+2)%26])\n",
    "    else:\n",
    "        new.append(alph)\n",
    "new=''.join(new) \n",
    "print new"
   ]
  },
  {
   "cell_type": "code",
   "execution_count": 60,
   "metadata": {
    "collapsed": false
   },
   "outputs": [
    {
     "name": "stdout",
     "output_type": "stream",
     "text": [
      "1\n"
     ]
    }
   ],
   "source": [
    "a=tuple(raw_input())"
   ]
  },
  {
   "cell_type": "code",
   "execution_count": 61,
   "metadata": {
    "collapsed": false
   },
   "outputs": [
    {
     "data": {
      "text/plain": [
       "('1',)"
      ]
     },
     "execution_count": 61,
     "metadata": {},
     "output_type": "execute_result"
    }
   ],
   "source": [
    "a\n"
   ]
  },
  {
   "cell_type": "code",
   "execution_count": 62,
   "metadata": {
    "collapsed": false
   },
   "outputs": [
    {
     "data": {
      "text/plain": [
       "tuple"
      ]
     },
     "execution_count": 62,
     "metadata": {},
     "output_type": "execute_result"
    }
   ],
   "source": [
    "type(a)"
   ]
  },
  {
   "cell_type": "code",
   "execution_count": 70,
   "metadata": {
    "collapsed": false
   },
   "outputs": [
    {
     "data": {
      "text/plain": [
       "()"
      ]
     },
     "execution_count": 70,
     "metadata": {},
     "output_type": "execute_result"
    }
   ],
   "source": [
    "import sys\n",
    "a=tuple(sys.stdin)\n",
    "\n",
    "a\n"
   ]
  },
  {
   "cell_type": "code",
   "execution_count": 9,
   "metadata": {
    "collapsed": false
   },
   "outputs": [
    {
     "ename": "SyntaxError",
     "evalue": "invalid syntax (<ipython-input-9-cb0cbe02c4c0>, line 5)",
     "output_type": "error",
     "traceback": [
      "\u001b[1;36m  File \u001b[1;32m\"<ipython-input-9-cb0cbe02c4c0>\"\u001b[1;36m, line \u001b[1;32m5\u001b[0m\n\u001b[1;33m    dicta=dict(k,float(v)) for k,v in l\u001b[0m\n\u001b[1;37m                             ^\u001b[0m\n\u001b[1;31mSyntaxError\u001b[0m\u001b[1;31m:\u001b[0m invalid syntax\n"
     ]
    }
   ],
   "source": [
    "n=int(raw_input())\n",
    "\n",
    "while n:\n",
    "    l = str( raw_input())\n",
    "    dicta=dict(k,float(v)) for k,v in l \n",
    "print dicta    "
   ]
  },
  {
   "cell_type": "markdown",
   "metadata": {},
   "source": [
    "l"
   ]
  },
  {
   "cell_type": "code",
   "execution_count": 5,
   "metadata": {
    "collapsed": false
   },
   "outputs": [
    {
     "data": {
      "text/plain": [
       "str"
      ]
     },
     "execution_count": 5,
     "metadata": {},
     "output_type": "execute_result"
    }
   ],
   "source": [
    "type (l)"
   ]
  },
  {
   "cell_type": "code",
   "execution_count": 7,
   "metadata": {
    "collapsed": false
   },
   "outputs": [
    {
     "name": "stdout",
     "output_type": "stream",
     "text": [
      "2\n",
      "append 1\n",
      "insert 1 2\n"
     ]
    }
   ],
   "source": [
    "n=int(raw_input())\n",
    "mine=[]\n",
    "while n:\n",
    "    arg=raw_input().strip().split(' ')\n",
    "    if arg[0]=='append':\n",
    "        mine.append(int(arg[1]))\n",
    "    elif arg[0]=='insert':\n",
    "        mine.insert(int(arg[1]),int(arg[2]))\n",
    "        \n",
    "    n=n-1"
   ]
  },
  {
   "cell_type": "code",
   "execution_count": 9,
   "metadata": {
    "collapsed": false
   },
   "outputs": [
    {
     "name": "stdout",
     "output_type": "stream",
     "text": [
      "[1, 2]\n",
      "['insert', '1', '2']\n"
     ]
    }
   ],
   "source": [
    "print mine\n",
    "print arg"
   ]
  },
  {
   "cell_type": "code",
   "execution_count": 1,
   "metadata": {
    "collapsed": false
   },
   "outputs": [
    {
     "name": "stdout",
     "output_type": "stream",
     "text": [
      "2\n",
      "1 2\n",
      "-1847866214\n"
     ]
    }
   ],
   "source": [
    "t=int(raw_input())\n",
    "a=()\n",
    "while t:\n",
    "    a=tuple(raw_input().strip().split(' '))\n",
    "    print hash(a)\n",
    "    if len(str(a))<=t:\n",
    "        continue\n",
    "    else:\n",
    "        break\n",
    "    t-=1"
   ]
  },
  {
   "cell_type": "code",
   "execution_count": 4,
   "metadata": {
    "collapsed": false
   },
   "outputs": [
    {
     "name": "stdout",
     "output_type": "stream",
     "text": [
      "('1', '2')\n"
     ]
    }
   ],
   "source": [
    "print str(a)"
   ]
  },
  {
   "cell_type": "code",
   "execution_count": 5,
   "metadata": {
    "collapsed": false
   },
   "outputs": [
    {
     "name": "stdout",
     "output_type": "stream",
     "text": [
      "2\n",
      "1 2\n",
      "1299869600\n"
     ]
    }
   ],
   "source": [
    "N = int(raw_input())\n",
    "T = tuple(int(i) for i in raw_input().split())\n",
    "print hash(T)"
   ]
  },
  {
   "cell_type": "code",
   "execution_count": 6,
   "metadata": {
    "collapsed": false
   },
   "outputs": [
    {
     "name": "stdout",
     "output_type": "stream",
     "text": [
      "2\n",
      "1 2\n",
      "1299869600\n",
      "2\n"
     ]
    }
   ],
   "source": [
    "N = int(raw_input())\n",
    "T = tuple(int(i) for i in raw_input().split())\n",
    "print hash(T)\n",
    "\n",
    "print t"
   ]
  },
  {
   "cell_type": "code",
   "execution_count": 7,
   "metadata": {
    "collapsed": false
   },
   "outputs": [
    {
     "name": "stdout",
     "output_type": "stream",
     "text": [
      "2\n",
      "1 2\n",
      "1299869600\n"
     ]
    }
   ],
   "source": [
    "raw_input()\n",
    "print hash(tuple(map(int, raw_input().strip().split(\" \"))))"
   ]
  },
  {
   "cell_type": "code",
   "execution_count": 26,
   "metadata": {
    "collapsed": false
   },
   "outputs": [
    {
     "name": "stdout",
     "output_type": "stream",
     "text": [
      "2\n",
      "3\n",
      "4\n",
      "5\n",
      "[2, 3, 4]\n",
      "5\n",
      "[[0, 0, 0], [0, 0, 1], [0, 0, 2], [0, 0, 3], [0, 0, 4], [0, 1, 0], [0, 1, 1], [0, 1, 2], [0, 1, 3], [0, 2, 0], [0, 2, 1], [0, 2, 2], [0, 2, 4], [0, 3, 0], [0, 3, 1], [0, 3, 3], [0, 3, 4], [1, 0, 0], [1, 0, 1], [1, 0, 2], [1, 0, 3], [1, 1, 0], [1, 1, 1], [1, 1, 2], [1, 1, 4], [1, 2, 0], [1, 2, 1], [1, 2, 3], [1, 2, 4], [1, 3, 0], [1, 3, 2], [1, 3, 3], [1, 3, 4], [2, 0, 0], [2, 0, 1], [2, 0, 2], [2, 0, 4], [2, 1, 0], [2, 1, 1], [2, 1, 3], [2, 1, 4], [2, 2, 0], [2, 2, 2], [2, 2, 3], [2, 2, 4], [2, 3, 1], [2, 3, 2], [2, 3, 3], [2, 3, 4]]\n"
     ]
    }
   ],
   "source": [
    "#given is x y z \n",
    "#whose sum should not be greater than n\n",
    "#list = [x,y,z]\n",
    "x=int(raw_input())\n",
    "y=int(raw_input())\n",
    "z=int(raw_input())\n",
    "n=int(raw_input())\n",
    "print l\n",
    "print n\n",
    "try :\n",
    "    print ([[a,b,c] for a in range(0,x+1) for b in range(0,y+1) for c in range(0,z+1) if a + b + c != n ])\n",
    "except:\n",
    "    print 'fuck you'\n",
    "    \n"
   ]
  },
  {
   "cell_type": "code",
   "execution_count": 27,
   "metadata": {
    "collapsed": false
   },
   "outputs": [
    {
     "name": "stdout",
     "output_type": "stream",
     "text": [
      "1\n",
      "1\n",
      "1\n",
      "3\n",
      "[[0, 0, 0], [0, 0, 1], [0, 1, 0], [0, 1, 1], [1, 0, 0], [1, 0, 1], [1, 1, 0]]\n"
     ]
    }
   ],
   "source": [
    "x=int(raw_input())\n",
    "y=int(raw_input())\n",
    "z=int(raw_input())\n",
    "n=int(raw_input())\n",
    "print ([[a,b,c] for a in range(0,x+1) for b in range(0,y+1) for c in range(0,z+1) if a + b + c != n ])"
   ]
  },
  {
   "cell_type": "code",
   "execution_count": 36,
   "metadata": {
    "collapsed": false
   },
   "outputs": [
    {
     "name": "stdout",
     "output_type": "stream",
     "text": [
      "2\n",
      "3\n",
      "4\n",
      "5\n"
     ]
    }
   ],
   "source": [
    "x, y, z, n = (int(raw_input()) for _ in xrange(4))"
   ]
  },
  {
   "cell_type": "code",
   "execution_count": 37,
   "metadata": {
    "collapsed": false
   },
   "outputs": [
    {
     "data": {
      "text/plain": [
       "2"
      ]
     },
     "execution_count": 37,
     "metadata": {},
     "output_type": "execute_result"
    }
   ],
   "source": [
    "x"
   ]
  },
  {
   "cell_type": "code",
   "execution_count": 69,
   "metadata": {
    "collapsed": false
   },
   "outputs": [
    {
     "name": "stdout",
     "output_type": "stream",
     "text": [
      "4\n",
      "2 4 5 9\n",
      "4\n",
      "2 4 11 12\n",
      "set([9, 11, 12, 5])\n"
     ]
    }
   ],
   "source": [
    "l1= int(raw_input())\n",
    "a1=raw_input().split()\n",
    "l2= int(raw_input())\n",
    "a2=raw_input().split()\n",
    "a1=map(int,a1)\n",
    "a2=map(int,a2)\n",
    "myset1 = set(a1)\n",
    "myset2 = set(a2)\n",
    "finalset = myset1.difference(myset2).union(myset2.difference(myset1))\n",
    "print finalset"
   ]
  },
  {
   "cell_type": "code",
   "execution_count": 75,
   "metadata": {
    "collapsed": false
   },
   "outputs": [
    {
     "name": "stdout",
     "output_type": "stream",
     "text": [
      "5\n",
      "9\n",
      "11\n",
      "12\n"
     ]
    }
   ],
   "source": [
    "for x in sorted(finalset):\n",
    "    print x"
   ]
  },
  {
   "cell_type": "code",
   "execution_count": 68,
   "metadata": {
    "collapsed": false
   },
   "outputs": [
    {
     "ename": "AttributeError",
     "evalue": "'set' object has no attribute 'ord'",
     "output_type": "error",
     "traceback": [
      "\u001b[1;31m---------------------------------------------------------------------------\u001b[0m",
      "\u001b[1;31mAttributeError\u001b[0m                            Traceback (most recent call last)",
      "\u001b[1;32m<ipython-input-68-35caf4ceb7b2>\u001b[0m in \u001b[0;36m<module>\u001b[1;34m()\u001b[0m\n\u001b[1;32m----> 1\u001b[1;33m \u001b[0mfinalset\u001b[0m\u001b[1;33m.\u001b[0m\u001b[0mord\u001b[0m\u001b[1;33m(\u001b[0m\u001b[1;33m)\u001b[0m\u001b[1;33m\u001b[0m\u001b[0m\n\u001b[0m",
      "\u001b[1;31mAttributeError\u001b[0m: 'set' object has no attribute 'ord'"
     ]
    }
   ],
   "source": []
  },
  {
   "cell_type": "code",
   "execution_count": 41,
   "metadata": {
    "collapsed": false
   },
   "outputs": [
    {
     "data": {
      "text/plain": [
       "[1, 2]"
      ]
     },
     "execution_count": 41,
     "metadata": {},
     "output_type": "execute_result"
    }
   ],
   "source": [
    "a"
   ]
  },
  {
   "cell_type": "code",
   "execution_count": 45,
   "metadata": {
    "collapsed": false
   },
   "outputs": [
    {
     "name": "stdout",
     "output_type": "stream",
     "text": [
      "2\n",
      "1 2\n",
      "3\n",
      "1 2 3\n"
     ]
    },
    {
     "ename": "ValueError",
     "evalue": "invalid literal for int() with base 10: '1 2 3'",
     "output_type": "error",
     "traceback": [
      "\u001b[1;31m---------------------------------------------------------------------------\u001b[0m",
      "\u001b[1;31mValueError\u001b[0m                                Traceback (most recent call last)",
      "\u001b[1;32m<ipython-input-45-e9a93b20d33f>\u001b[0m in \u001b[0;36m<module>\u001b[1;34m()\u001b[0m\n\u001b[0;32m      1\u001b[0m \u001b[0ml1\u001b[0m \u001b[1;33m=\u001b[0m \u001b[0mint\u001b[0m\u001b[1;33m(\u001b[0m\u001b[0mraw_input\u001b[0m\u001b[1;33m(\u001b[0m\u001b[1;33m)\u001b[0m\u001b[1;33m)\u001b[0m\u001b[1;33m\u001b[0m\u001b[0m\n\u001b[0;32m      2\u001b[0m \u001b[0ma1\u001b[0m \u001b[1;33m=\u001b[0m \u001b[0mlist\u001b[0m\u001b[1;33m(\u001b[0m\u001b[0mraw_input\u001b[0m\u001b[1;33m(\u001b[0m\u001b[1;33m)\u001b[0m\u001b[1;33m.\u001b[0m\u001b[0msplit\u001b[0m\u001b[1;33m(\u001b[0m\u001b[1;33m)\u001b[0m \u001b[1;32mfor\u001b[0m \u001b[0m_\u001b[0m \u001b[1;32min\u001b[0m \u001b[0mrange\u001b[0m\u001b[1;33m(\u001b[0m\u001b[0ml1\u001b[0m\u001b[1;33m)\u001b[0m\u001b[1;33m)\u001b[0m\u001b[1;33m\u001b[0m\u001b[0m\n\u001b[1;32m----> 3\u001b[1;33m \u001b[0ml2\u001b[0m \u001b[1;33m=\u001b[0m \u001b[0mint\u001b[0m\u001b[1;33m(\u001b[0m\u001b[0mraw_input\u001b[0m\u001b[1;33m(\u001b[0m\u001b[1;33m)\u001b[0m\u001b[1;33m)\u001b[0m\u001b[1;33m\u001b[0m\u001b[0m\n\u001b[0m\u001b[0;32m      4\u001b[0m \u001b[0ma2\u001b[0m \u001b[1;33m=\u001b[0m \u001b[0mlist\u001b[0m \u001b[1;33m(\u001b[0m\u001b[0mraw_input\u001b[0m\u001b[1;33m(\u001b[0m\u001b[1;33m)\u001b[0m\u001b[1;33m.\u001b[0m\u001b[0msplit\u001b[0m\u001b[1;33m(\u001b[0m\u001b[1;33m)\u001b[0m \u001b[1;32mfor\u001b[0m \u001b[0m_\u001b[0m \u001b[1;32min\u001b[0m \u001b[0mrange\u001b[0m\u001b[1;33m(\u001b[0m\u001b[0ml2\u001b[0m\u001b[1;33m)\u001b[0m\u001b[1;33m)\u001b[0m\u001b[1;33m\u001b[0m\u001b[0m\n\u001b[0;32m      5\u001b[0m \u001b[0ma1\u001b[0m\u001b[1;33m=\u001b[0m \u001b[0mlist\u001b[0m\u001b[1;33m(\u001b[0m\u001b[0mmap\u001b[0m\u001b[1;33m(\u001b[0m\u001b[0mint\u001b[0m\u001b[1;33m,\u001b[0m\u001b[0ma1\u001b[0m\u001b[1;33m)\u001b[0m\u001b[1;33m)\u001b[0m\u001b[1;33m\u001b[0m\u001b[0m\n",
      "\u001b[1;31mValueError\u001b[0m: invalid literal for int() with base 10: '1 2 3'"
     ]
    }
   ],
   "source": [
    "l1 = int(raw_input())\n",
    "a1 = list(raw_input().split() for _ in range(l1))\n",
    "l2 = int(raw_input())\n",
    "a2 = list (raw_input().split() for _ in range(l2))\n",
    "a1= list(map(int,a1))\n",
    "a2 = list(map(int,a2))\n",
    "myset1 = set(a1)\n",
    "myset2 = set(a2)\n",
    "finalset = myset1.difference(myset2).union(myset2.difference(myset1))"
   ]
  },
  {
   "cell_type": "code",
   "execution_count": 76,
   "metadata": {
    "collapsed": false
   },
   "outputs": [
    {
     "name": "stdout",
     "output_type": "stream",
     "text": [
      "2 3 4\n",
      "3 4 5 6\n",
      "set([2, 5, 6])\n"
     ]
    }
   ],
   "source": [
    "\"\"\"l1= int(raw_input())\n",
    "a1=raw_input().split()\n",
    "l2= int(raw_input())\n",
    "a2=raw_input().split()\n",
    "a1=map(int,a1)\n",
    "a2=map(int,a2)\"\"\"\n",
    "myset1 = set(map(int,raw_input().split()))\n",
    "myset2 = set(map(int,raw_input().split()))\n",
    "finalset = myset1.difference(myset2).union(myset2.difference(myset1))\n",
    "print finalset"
   ]
  },
  {
   "cell_type": "code",
   "execution_count": 80,
   "metadata": {
    "collapsed": false
   },
   "outputs": [
    {
     "name": "stdout",
     "output_type": "stream",
     "text": [
      "2\n",
      "harry 32.1\n",
      "barry 32.3\n"
     ]
    },
    {
     "ename": "TypeError",
     "evalue": "find/rfind/index/rindex() takes at least 1 argument (0 given)",
     "output_type": "error",
     "traceback": [
      "\u001b[1;31m---------------------------------------------------------------------------\u001b[0m",
      "\u001b[1;31mTypeError\u001b[0m                                 Traceback (most recent call last)",
      "\u001b[1;32m<ipython-input-80-60578d27df1c>\u001b[0m in \u001b[0;36m<module>\u001b[1;34m()\u001b[0m\n\u001b[0;32m      6\u001b[0m \u001b[1;32mfor\u001b[0m \u001b[0ma\u001b[0m \u001b[1;32min\u001b[0m \u001b[0ml\u001b[0m\u001b[1;33m:\u001b[0m\u001b[1;33m\u001b[0m\u001b[0m\n\u001b[0;32m      7\u001b[0m     \u001b[1;32mfor\u001b[0m \u001b[0mb\u001b[0m \u001b[1;32min\u001b[0m \u001b[0ma\u001b[0m\u001b[1;33m:\u001b[0m\u001b[1;33m\u001b[0m\u001b[0m\n\u001b[1;32m----> 8\u001b[1;33m         \u001b[0mi\u001b[0m\u001b[1;33m=\u001b[0m\u001b[0mb\u001b[0m\u001b[1;33m.\u001b[0m\u001b[0mindex\u001b[0m\u001b[1;33m(\u001b[0m\u001b[1;33m)\u001b[0m\u001b[1;33m\u001b[0m\u001b[0m\n\u001b[0m\u001b[0;32m      9\u001b[0m \u001b[1;33m\u001b[0m\u001b[0m\n\u001b[0;32m     10\u001b[0m \u001b[1;32mprint\u001b[0m \u001b[0ml\u001b[0m\u001b[1;33m\u001b[0m\u001b[0m\n",
      "\u001b[1;31mTypeError\u001b[0m: find/rfind/index/rindex() takes at least 1 argument (0 given)"
     ]
    }
   ],
   "source": [
    "a = int(raw_input())\n",
    "l=[]\n",
    "while a:\n",
    "    l.append(raw_input().split())\n",
    "    a-=1\n",
    "s=set( m for n,m in l)\n",
    "        \n",
    "    \n",
    "print l    "
   ]
  },
  {
   "cell_type": "code",
   "execution_count": 81,
   "metadata": {
    "collapsed": false
   },
   "outputs": [
    {
     "data": {
      "text/plain": [
       "'d'"
      ]
     },
     "execution_count": 81,
     "metadata": {},
     "output_type": "execute_result"
    }
   ],
   "source": [
    "char = 'abcdefghijklmnopqrstuvwxyz'\n",
    "char[3]"
   ]
  },
  {
   "cell_type": "code",
   "execution_count": 82,
   "metadata": {
    "collapsed": false
   },
   "outputs": [
    {
     "data": {
      "text/plain": [
       "'z'"
      ]
     },
     "execution_count": 82,
     "metadata": {},
     "output_type": "execute_result"
    }
   ],
   "source": [
    "char[25]"
   ]
  },
  {
   "cell_type": "code",
   "execution_count": 2,
   "metadata": {
    "collapsed": false
   },
   "outputs": [
    {
     "name": "stdout",
     "output_type": "stream",
     "text": [
      "4\n"
     ]
    }
   ],
   "source": [
    "char = 'abcdefghijklmnopqrstuvwxyz'\n",
    "n=int(raw_input())\n",
    "#Abandoned"
   ]
  },
  {
   "cell_type": "code",
   "execution_count": 39,
   "metadata": {
    "collapsed": false
   },
   "outputs": [
    {
     "data": {
      "text/plain": [
       "'Hello World Lol'"
      ]
     },
     "execution_count": 39,
     "metadata": {},
     "output_type": "execute_result"
    }
   ],
   "source": [
    "char='hello world lol'\n",
    "char=char.strip().split(' ')\n",
    "l=[]\n",
    "\n",
    "c=map(list,char)\n",
    "for x in c:\n",
    "    x[0]=x[0].upper()\n",
    "for x in c:\n",
    "    l.append(''.join(x))\n",
    "l=' '.join(l)\n",
    "l"
   ]
  },
  {
   "cell_type": "code",
   "execution_count": 37,
   "metadata": {
    "collapsed": false
   },
   "outputs": [
    {
     "name": "stdout",
     "output_type": "stream",
     "text": [
      "hello   world\n"
     ]
    },
    {
     "ename": "SyntaxError",
     "evalue": "unexpected EOF while parsing (<string>, line 1)",
     "output_type": "error",
     "traceback": [
      "\u001b[1;36m  File \u001b[1;32m\"<string>\"\u001b[1;36m, line \u001b[1;32m1\u001b[0m\n\u001b[1;33m    hello   world\u001b[0m\n\u001b[1;37m                ^\u001b[0m\n\u001b[1;31mSyntaxError\u001b[0m\u001b[1;31m:\u001b[0m unexpected EOF while parsing\n"
     ]
    }
   ],
   "source": [
    "import string\n",
    "print(\" \".join((s.upper() for s in input().strip().split(\" \"))))"
   ]
  },
  {
   "cell_type": "code",
   "execution_count": 63,
   "metadata": {
    "collapsed": false
   },
   "outputs": [
    {
     "name": "stdout",
     "output_type": "stream",
     "text": [
      "banananao\n",
      "1\n",
      "1\n",
      "1\n",
      "1\n",
      "8\n"
     ]
    }
   ],
   "source": [
    "import string\n",
    "game=raw_input().strip()\n",
    "char1=set(\"aeiou\")\n",
    "char2=set(\"bcdfghjklmnpqrstvwxyz\")\n",
    "count1=count2=0\n",
    "for x in game:\n",
    "    if x in char1:\n",
    "        print game.index(x)\n",
    "        #count1+=len(game[x.index()])\n",
    "    #elif x in char2:\n",
    "        #count1+=len(game[index(x):])\n",
    "        \n",
    "       "
   ]
  },
  {
   "cell_type": "code",
   "execution_count": 70,
   "metadata": {
    "collapsed": false
   },
   "outputs": [
    {
     "name": "stdout",
     "output_type": "stream",
     "text": [
      "banana\n",
      "9 \n",
      "12\n"
     ]
    }
   ],
   "source": [
    "char1=set(\"aeiou\")\n",
    "char2=set(\"bcdfghjklmnpqrstvwxyz\")\n",
    "input_string=raw_input()\n",
    "length=len(input_string)\n",
    "count1=count2=0\n",
    "a=[input_string[i:j+1] for i in xrange(length) for j in xrange(i,length)]\n",
    "for l in a:\n",
    "   \n",
    "    if l[0] in char1:\n",
    "        count1+=1\n",
    "        \n",
    "    elif l[0] in char2:\n",
    "        count2+=1\n",
    "       \n",
    "        \n",
    "print count1,\"\\n\",count2        "
   ]
  },
  {
   "cell_type": "code",
   "execution_count": 66,
   "metadata": {
    "collapsed": false
   },
   "outputs": [
    {
     "data": {
      "text/plain": [
       "['b',\n",
       " 'ba',\n",
       " 'ban',\n",
       " 'bana',\n",
       " 'banan',\n",
       " 'banana',\n",
       " 'a',\n",
       " 'an',\n",
       " 'ana',\n",
       " 'anan',\n",
       " 'anana',\n",
       " 'n',\n",
       " 'na',\n",
       " 'nan',\n",
       " 'nana',\n",
       " 'a',\n",
       " 'an',\n",
       " 'ana',\n",
       " 'n',\n",
       " 'na',\n",
       " 'a']"
      ]
     },
     "execution_count": 66,
     "metadata": {},
     "output_type": "execute_result"
    }
   ],
   "source": [
    "a"
   ]
  },
  {
   "cell_type": "code",
   "execution_count": 24,
   "metadata": {
    "collapsed": false
   },
   "outputs": [
    {
     "name": "stdout",
     "output_type": "stream",
     "text": [
      "1\n",
      "10\n",
      "0.99503719021\n",
      "5.02493781056\n",
      "5.7105931375\n"
     ]
    }
   ],
   "source": [
    "import math\n",
    "ab=float(raw_input())\n",
    "bc=float(raw_input())\n",
    "acb=math.atan((ab/bc))\n",
    "ac=float((ab**2+bc**2)**0.5)\n",
    "\n",
    "#a2 = b2 + c2 − 2bc cosA\n",
    "print math.cos(acb)\n",
    "bm=(((ac/2)**2+bc**2) - (2*(ac/2)*bc *math.cos(acb)))**0.5\n",
    "print bm\n",
    "\n",
    "#sin mbc / mc = sin acb / bm\n",
    "mbc = math.degrees(math.asin(math.sin(acb)*(ac/2)/bm))\n",
    "print mbc\n",
    "#bm=float(((ab**2+bc**2)**0.5)/2)\n",
    "#print bm\n",
    "#print math.acos(bc/(2*bc*bm))\n",
    "#bmc=math.degrees(math.acos((bc+bm-bm)/(2*bc*bm)))\n",
    "#print '%.1f' % round(bmc, 1)\n"
   ]
  },
  {
   "cell_type": "code",
   "execution_count": 4,
   "metadata": {
    "collapsed": false
   },
   "outputs": [
    {
     "data": {
      "text/plain": [
       "14.142135623730951"
      ]
     },
     "execution_count": 4,
     "metadata": {},
     "output_type": "execute_result"
    }
   ],
   "source": [
    "200**0.5"
   ]
  },
  {
   "cell_type": "code",
   "execution_count": 25,
   "metadata": {
    "collapsed": false
   },
   "outputs": [
    {
     "name": "stdout",
     "output_type": "stream",
     "text": [
      "6\n",
      "1\n",
      "121\n",
      "12321\n",
      "1234321\n",
      "123454321\n",
      "12345654321\n"
     ]
    }
   ],
   "source": [
    "for i in range(1,int(raw_input())+1): #More than 2 lines will result in 0 score. Do not leave a blank line also\n",
    "    print (int((10**i - 1)/9)**2)\n"
   ]
  },
  {
   "cell_type": "code",
   "execution_count": 30,
   "metadata": {
    "collapsed": false
   },
   "outputs": [
    {
     "name": "stdout",
     "output_type": "stream",
     "text": [
      "john\n",
      "may\n",
      "johnmay\n"
     ]
    }
   ],
   "source": [
    "print (''.join(raw_input()+raw_input()))"
   ]
  },
  {
   "cell_type": "code",
   "execution_count": 3,
   "metadata": {
    "collapsed": false
   },
   "outputs": [
    {
     "ename": "SyntaxError",
     "evalue": "invalid syntax (<ipython-input-3-653dbd991855>, line 6)",
     "output_type": "error",
     "traceback": [
      "\u001b[1;36m  File \u001b[1;32m\"<ipython-input-3-653dbd991855>\"\u001b[1;36m, line \u001b[1;32m6\u001b[0m\n\u001b[1;33m    suma.append()=(sumt=sumt+x)\u001b[0m\n\u001b[1;37m                       ^\u001b[0m\n\u001b[1;31mSyntaxError\u001b[0m\u001b[1;31m:\u001b[0m invalid syntax\n"
     ]
    }
   ],
   "source": [
    "suma=[]\n",
    "for i in xrange(int(raw_input())+1):\n",
    "    sumt=0\n",
    "    for x in xrange(int(raw_input())):\n",
    "        if x%3==0 or x%5==0:\n",
    "            suma.append()=(sumt=sumt+x)\n",
    "for i in suma:\n",
    "    print int(i)"
   ]
  },
  {
   "cell_type": "code",
   "execution_count": 5,
   "metadata": {
    "collapsed": false
   },
   "outputs": [
    {
     "name": "stdout",
     "output_type": "stream",
     "text": [
      "2\n",
      "1 2 3 4 1\n",
      "2\n",
      "1 2\n"
     ]
    },
    {
     "ename": "ValueError",
     "evalue": "need more than 1 value to unpack",
     "output_type": "error",
     "traceback": [
      "\u001b[1;31m---------------------------------------------------------------------------\u001b[0m",
      "\u001b[1;31mValueError\u001b[0m                                Traceback (most recent call last)",
      "\u001b[1;32m<ipython-input-5-bd2e38ed26d2>\u001b[0m in \u001b[0;36m<module>\u001b[1;34m()\u001b[0m\n\u001b[0;32m      4\u001b[0m \u001b[0mn\u001b[0m\u001b[1;33m=\u001b[0m\u001b[0mint\u001b[0m\u001b[1;33m(\u001b[0m\u001b[0mraw_input\u001b[0m\u001b[1;33m(\u001b[0m\u001b[1;33m)\u001b[0m\u001b[1;33m)\u001b[0m\u001b[1;33m\u001b[0m\u001b[0m\n\u001b[0;32m      5\u001b[0m \u001b[1;32mfor\u001b[0m \u001b[0mi\u001b[0m \u001b[1;32min\u001b[0m \u001b[0mxrange\u001b[0m\u001b[1;33m(\u001b[0m\u001b[0mn\u001b[0m\u001b[1;33m+\u001b[0m\u001b[1;36m1\u001b[0m\u001b[1;33m)\u001b[0m\u001b[1;33m:\u001b[0m\u001b[1;33m\u001b[0m\u001b[0m\n\u001b[1;32m----> 6\u001b[1;33m     \u001b[0mmydict\u001b[0m\u001b[1;33m=\u001b[0m \u001b[1;33m{\u001b[0m\u001b[1;33m(\u001b[0m\u001b[0mx\u001b[0m\u001b[1;33m,\u001b[0m\u001b[0my\u001b[0m\u001b[1;33m)\u001b[0m \u001b[1;32mfor\u001b[0m \u001b[1;33m(\u001b[0m\u001b[0mx\u001b[0m\u001b[1;33m,\u001b[0m\u001b[0my\u001b[0m\u001b[1;33m)\u001b[0m \u001b[1;32min\u001b[0m \u001b[0mraw_input\u001b[0m\u001b[1;33m(\u001b[0m\u001b[1;33m)\u001b[0m\u001b[1;33m.\u001b[0m\u001b[0msplit\u001b[0m\u001b[1;33m(\u001b[0m\u001b[1;33m)\u001b[0m\u001b[1;33m}\u001b[0m\u001b[1;33m\u001b[0m\u001b[0m\n\u001b[0m",
      "\u001b[1;32m<ipython-input-5-bd2e38ed26d2>\u001b[0m in \u001b[0;36m<setcomp>\u001b[1;34m(***failed resolving arguments***)\u001b[0m\n\u001b[0;32m      4\u001b[0m \u001b[0mn\u001b[0m\u001b[1;33m=\u001b[0m\u001b[0mint\u001b[0m\u001b[1;33m(\u001b[0m\u001b[0mraw_input\u001b[0m\u001b[1;33m(\u001b[0m\u001b[1;33m)\u001b[0m\u001b[1;33m)\u001b[0m\u001b[1;33m\u001b[0m\u001b[0m\n\u001b[0;32m      5\u001b[0m \u001b[1;32mfor\u001b[0m \u001b[0mi\u001b[0m \u001b[1;32min\u001b[0m \u001b[0mxrange\u001b[0m\u001b[1;33m(\u001b[0m\u001b[0mn\u001b[0m\u001b[1;33m+\u001b[0m\u001b[1;36m1\u001b[0m\u001b[1;33m)\u001b[0m\u001b[1;33m:\u001b[0m\u001b[1;33m\u001b[0m\u001b[0m\n\u001b[1;32m----> 6\u001b[1;33m     \u001b[0mmydict\u001b[0m\u001b[1;33m=\u001b[0m \u001b[1;33m{\u001b[0m\u001b[1;33m(\u001b[0m\u001b[0mx\u001b[0m\u001b[1;33m,\u001b[0m\u001b[0my\u001b[0m\u001b[1;33m)\u001b[0m \u001b[1;32mfor\u001b[0m \u001b[1;33m(\u001b[0m\u001b[0mx\u001b[0m\u001b[1;33m,\u001b[0m\u001b[0my\u001b[0m\u001b[1;33m)\u001b[0m \u001b[1;32min\u001b[0m \u001b[0mraw_input\u001b[0m\u001b[1;33m(\u001b[0m\u001b[1;33m)\u001b[0m\u001b[1;33m.\u001b[0m\u001b[0msplit\u001b[0m\u001b[1;33m(\u001b[0m\u001b[1;33m)\u001b[0m\u001b[1;33m}\u001b[0m\u001b[1;33m\u001b[0m\u001b[0m\n\u001b[0m",
      "\u001b[1;31mValueError\u001b[0m: need more than 1 value to unpack"
     ]
    }
   ],
   "source": [
    "from collections import Counter\n",
    "raw_input()\n",
    "myshoes=raw_input().split()\n",
    "n=int(raw_input())\n",
    "for i in xrange(n+1):\n",
    "    mydict= {(x,y) for (x,y) in raw_input().split()}"
   ]
  },
  {
   "cell_type": "code",
   "execution_count": 24,
   "metadata": {
    "collapsed": false
   },
   "outputs": [
    {
     "name": "stdout",
     "output_type": "stream",
     "text": [
      "2 3\n",
      "2 3 5\n",
      "2 1 2\n",
      "Index is 0 and sum is 10\n"
     ]
    }
   ],
   "source": [
    "#Problem Statement of Hiring\n",
    "\n",
    "mymat=[]*100\n",
    "size=[x for x in raw_input().split()]\n",
    "size=map(int,size)\n",
    "sums1=[]\n",
    "sums2=[]\n",
    "for x in range(size[0]):\n",
    "    mymat.append(map(int,raw_input().split()))\n",
    "    \n",
    "sums1=[sum(mymat[i]) for i in range(size[0])]\n",
    "sums2=[sum(x[i] for x in mymat) for i in range(size[1])]\n",
    "if max(sums1)>max(sums2):\n",
    "    print 'Index is %s and sum is %s' %(sums1.index(max(sums1)),max(sums1))\n",
    "else:\n",
    "    print 'Index is %s and sum is %s' %(sums2.index(max(sums2)),max(sums2))"
   ]
  },
  {
   "cell_type": "code",
   "execution_count": 10,
   "metadata": {
    "collapsed": false
   },
   "outputs": [
    {
     "data": {
      "text/plain": [
       "[2, 3, 4]"
      ]
     },
     "execution_count": 10,
     "metadata": {},
     "output_type": "execute_result"
    }
   ],
   "source": [
    "size"
   ]
  },
  {
   "cell_type": "code",
   "execution_count": 16,
   "metadata": {
    "collapsed": false
   },
   "outputs": [
    {
     "data": {
      "text/plain": [
       "[[2, 3, 4], [2, 3, 4]]"
      ]
     },
     "execution_count": 16,
     "metadata": {},
     "output_type": "execute_result"
    }
   ],
   "source": [
    "mymat"
   ]
  },
  {
   "cell_type": "code",
   "execution_count": 18,
   "metadata": {
    "collapsed": false
   },
   "outputs": [
    {
     "name": "stdout",
     "output_type": "stream",
     "text": [
      "[2, 4, 6]\n"
     ]
    }
   ],
   "source": [
    "data = [[1,2,3],\n",
    "        [1,2,3]]\n",
    "\n",
    "column = 1\n",
    "print [sum(row[i] for row in data) for i in range(len(data[0]))]"
   ]
  },
  {
   "cell_type": "code",
   "execution_count": 39,
   "metadata": {
    "collapsed": false
   },
   "outputs": [
    {
     "name": "stdout",
     "output_type": "stream",
     "text": [
      "114\n",
      "-1\n"
     ]
    }
   ],
   "source": [
    "import math\n",
    "def find_next_square(sq):\n",
    "    # Return the next square if sq is a square, -1 otherwise\n",
    "    \n",
    "    i = int(math.sqrt(sq) + 0.5)\n",
    "    if i**2 == sq:\n",
    "        \n",
    "        x=sq+1\n",
    "        while True:\n",
    "            j= int(math.sqrt(x)+0.5)\n",
    "            if j**2 == x:\n",
    "                 return x\n",
    "            x+=1         \n",
    "            \n",
    "    else:\n",
    "        return -1\n",
    "    \n",
    "print find_next_square(int(raw_input()))\n"
   ]
  },
  {
   "cell_type": "code",
   "execution_count": 19,
   "metadata": {
    "collapsed": false
   },
   "outputs": [
    {
     "data": {
      "text/plain": [
       "float"
      ]
     },
     "execution_count": 19,
     "metadata": {},
     "output_type": "execute_result"
    }
   ],
   "source": [
    "type(math.ceil(9**0.5))"
   ]
  },
  {
   "cell_type": "code",
   "execution_count": 35,
   "metadata": {
    "collapsed": false
   },
   "outputs": [
    {
     "name": "stdout",
     "output_type": "stream",
     "text": [
      "114\n",
      "121\n"
     ]
    }
   ],
   "source": [
    "sq=int(raw_input())\n",
    "x=sq+1\n",
    "while True:\n",
    "    j= int(math.sqrt(x)+0.5)\n",
    "    if j**2 == x:\n",
    "        print x\n",
    "        break\n",
    "    x+=1            "
   ]
  },
  {
   "cell_type": "code",
   "execution_count": 44,
   "metadata": {
    "collapsed": false
   },
   "outputs": [
    {
     "name": "stdout",
     "output_type": "stream",
     "text": [
      "676\n"
     ]
    }
   ],
   "source": [
    "def find_next_square(sq):\n",
    "    \n",
    "    if math.sqrt(sq).is_integer():\n",
    "        return int((root + 1)**2)\n",
    "    return -1\n",
    "print find_next_square(625)"
   ]
  },
  {
   "cell_type": "code",
   "execution_count": 112,
   "metadata": {
    "collapsed": false
   },
   "outputs": [
    {
     "name": "stdout",
     "output_type": "stream",
     "text": [
      "h\n",
      "s\n",
      "s\n",
      "e\n",
      "[['T', 'h', 'I', 's'], ['I', 's'], ['A'], ['T', 'e', 'S', 'T']]\n"
     ]
    }
   ],
   "source": [
    "import string\n",
    "def to_weird_case(string):\n",
    "    \n",
    "    a=map(list,string.split())\n",
    "    for x in a:\n",
    "        for y in x:\n",
    "            if x.index(y)%2 !=0:\n",
    "                print y\n",
    "                x[x.index(y)]=y.lower()\n",
    "            else:\n",
    "                x[x.index(y)]=y.upper()\n",
    "    \n",
    "    \n",
    "    return a     \n",
    "        \n",
    "       \n",
    "print to_weird_case(\"ThIs Is A TesT\")"
   ]
  },
  {
   "cell_type": "code",
   "execution_count": 28,
   "metadata": {
    "collapsed": false
   },
   "outputs": [
    {
     "ename": "AttributeError",
     "evalue": "'str' object has no attribute 'append'",
     "output_type": "error",
     "traceback": [
      "\u001b[1;31m---------------------------------------------------------------------------\u001b[0m",
      "\u001b[1;31mAttributeError\u001b[0m                            Traceback (most recent call last)",
      "\u001b[1;32m<ipython-input-28-9e72ccceb23f>\u001b[0m in \u001b[0;36m<module>\u001b[1;34m()\u001b[0m\n\u001b[0;32m      9\u001b[0m             \u001b[1;31m#x=x.replace(x,x[x.index(y)],x[x.index(y)].lower())\u001b[0m\u001b[1;33m\u001b[0m\u001b[1;33m\u001b[0m\u001b[0m\n\u001b[0;32m     10\u001b[0m         \u001b[1;32melse\u001b[0m\u001b[1;33m:\u001b[0m\u001b[1;33m\u001b[0m\u001b[0m\n\u001b[1;32m---> 11\u001b[1;33m             \u001b[0ma\u001b[0m\u001b[1;33m.\u001b[0m\u001b[0mappend\u001b[0m\u001b[1;33m(\u001b[0m\u001b[0mx\u001b[0m\u001b[1;33m[\u001b[0m\u001b[0mx\u001b[0m\u001b[1;33m.\u001b[0m\u001b[0mindex\u001b[0m\u001b[1;33m(\u001b[0m\u001b[0my\u001b[0m\u001b[1;33m)\u001b[0m\u001b[1;33m]\u001b[0m\u001b[1;33m.\u001b[0m\u001b[0mupper\u001b[0m\u001b[1;33m(\u001b[0m\u001b[1;33m)\u001b[0m\u001b[1;33m)\u001b[0m\u001b[1;33m\u001b[0m\u001b[0m\n\u001b[0m\u001b[0;32m     12\u001b[0m             \u001b[1;31m#x=x.replace(x,x[x.index(y)],x[x.index(y)].upper())\u001b[0m\u001b[1;33m\u001b[0m\u001b[1;33m\u001b[0m\u001b[0m\n\u001b[0;32m     13\u001b[0m \u001b[1;33m\u001b[0m\u001b[0m\n",
      "\u001b[1;31mAttributeError\u001b[0m: 'str' object has no attribute 'append'"
     ]
    }
   ],
   "source": [
    "import string\n",
    "string='this is is a test'\n",
    "l = string.split()\n",
    "a=''\n",
    "for x in l:\n",
    "    for y in x:\n",
    "        if x.index(y)%2 !=0:\n",
    "            a.append(x[x.index(y)].lower())\n",
    "            #x=x.replace(x,x[x.index(y)],x[x.index(y)].lower())\n",
    "        else:\n",
    "            a.append(x[x.index(y)].upper())\n",
    "            #x=x.replace(x,x[x.index(y)],x[x.index(y)].upper())\n",
    "        \n",
    "print ' '.join(a)            "
   ]
  },
  {
   "cell_type": "code",
   "execution_count": 10,
   "metadata": {
    "collapsed": false
   },
   "outputs": [
    {
     "data": {
      "text/plain": [
       "'t'"
      ]
     },
     "execution_count": 10,
     "metadata": {},
     "output_type": "execute_result"
    }
   ],
   "source": [
    "l[4][3]"
   ]
  },
  {
   "cell_type": "code",
   "execution_count": 32,
   "metadata": {
    "collapsed": false
   },
   "outputs": [
    {
     "name": "stdout",
     "output_type": "stream",
     "text": [
      "ThIs\n"
     ]
    }
   ],
   "source": [
    "x = \"THIS\"\n",
    "result_string = \"\"\n",
    "index = 0;\n",
    "for c in x:\n",
    "    if(index%2 != 0):\n",
    "        result_string += c.lower()\n",
    "    else:\n",
    "        result_string += c.upper()\n",
    "    index+=1\n",
    "\n",
    "print(result_string)"
   ]
  },
  {
   "cell_type": "code",
   "execution_count": 33,
   "metadata": {
    "collapsed": false
   },
   "outputs": [
    {
     "name": "stdout",
     "output_type": "stream",
     "text": [
      "name1, name2 and 2 others like this\n"
     ]
    }
   ],
   "source": [
    "def likes(names):\n",
    "    #your code here\n",
    "    if len(names)>=4:\n",
    "        print \"%s, %s and 2 others like this\" %(names[0],names[1])\n",
    "    elif len(names)==3:\n",
    "        print \"%s, %s and %s like this\" %(names[0],names[1])\n",
    "    elif len(names)==2:\n",
    "        print \"%s and %s like this\" %(names[0],names[1])\n",
    "    elif len(names)==1:\n",
    "        print \"%s likes this\" %names[0]\n",
    "    else:\n",
    "        print \"no one likes this\"\n",
    "        \n",
    "likes(['name1','name2','name3','name4'])        "
   ]
  },
  {
   "cell_type": "code",
   "execution_count": 34,
   "metadata": {
    "collapsed": true
   },
   "outputs": [],
   "source": [
    "def likes(names):\n",
    "    n = len(names)\n",
    "    return {\n",
    "        0: 'no one likes this',\n",
    "        1: '{} likes this', \n",
    "        2: '{} and {} like this', \n",
    "        3: '{}, {} and {} like this', \n",
    "        4: '{}, {} and {others} others like this'\n",
    "    }[min(4, n)].format(*names[:3], others=n-2)\n"
   ]
  },
  {
   "cell_type": "code",
   "execution_count": 35,
   "metadata": {
    "collapsed": false
   },
   "outputs": [
    {
     "data": {
      "text/plain": [
       "'name1, name2 and 2 others like this'"
      ]
     },
     "execution_count": 35,
     "metadata": {},
     "output_type": "execute_result"
    }
   ],
   "source": [
    "likes(['name1','name2','name3','name4'])"
   ]
  },
  {
   "cell_type": "code",
   "execution_count": 39,
   "metadata": {
    "collapsed": false
   },
   "outputs": [
    {
     "name": "stdout",
     "output_type": "stream",
     "text": [
      "set(['e', 's', 'm', 'O', 'o'])\n"
     ]
    },
    {
     "data": {
      "text/plain": [
       "True"
      ]
     },
     "execution_count": 39,
     "metadata": {},
     "output_type": "execute_result"
    }
   ],
   "source": [
    "def is_isogram(string):\n",
    "    #your code here\n",
    "    length=len(string)\n",
    "    if len(set(string))<length:\n",
    "        return False\n",
    "    else:\n",
    "        print set(string)\n",
    "        return True\n",
    "is_isogram('moOse')    "
   ]
  },
  {
   "cell_type": "code",
   "execution_count": 44,
   "metadata": {
    "collapsed": false
   },
   "outputs": [
    {
     "data": {
      "text/plain": [
       "False"
      ]
     },
     "execution_count": 44,
     "metadata": {},
     "output_type": "execute_result"
    }
   ],
   "source": [
    "def is_isogram(string):\n",
    "     return set(string.lower()) == len(string)\n",
    "    \n",
    "is_isogram('dermatoglyphics')             "
   ]
  },
  {
   "cell_type": "code",
   "execution_count": 49,
   "metadata": {
    "collapsed": false
   },
   "outputs": [
    {
     "name": "stdout",
     "output_type": "stream",
     "text": [
      "175097652602811\n"
     ]
    }
   ],
   "source": [
    "def f(n, m):\n",
    "    sum=0\n",
    "    try:\n",
    "        for i in xrange(1,n+1):\n",
    "            sum+=(i%m)\n",
    "    except:\n",
    "        print \"Oops\"\n",
    "    return sum\n",
    "\n",
    "print f(87012402, 4069561)"
   ]
  },
  {
   "cell_type": "code",
   "execution_count": 6,
   "metadata": {
    "collapsed": false
   },
   "outputs": [
    {
     "ename": "SyntaxError",
     "evalue": "invalid syntax (<ipython-input-6-7639470de245>, line 3)",
     "output_type": "error",
     "traceback": [
      "\u001b[1;36m  File \u001b[1;32m\"<ipython-input-6-7639470de245>\"\u001b[1;36m, line \u001b[1;32m3\u001b[0m\n\u001b[1;33m    sumt= x%m for x in xrange(1,n+1)\u001b[0m\n\u001b[1;37m                ^\u001b[0m\n\u001b[1;31mSyntaxError\u001b[0m\u001b[1;31m:\u001b[0m invalid syntax\n"
     ]
    }
   ],
   "source": [
    "def f(n, m):\n",
    "    sumt=[]\n",
    "    sumt= x%m for x in xrange(1,n+1)\n",
    "    \n",
    "    return sumt\n",
    "f(87012402, 4069561)"
   ]
  },
  {
   "cell_type": "code",
   "execution_count": 2,
   "metadata": {
    "collapsed": false
   },
   "outputs": [
    {
     "data": {
      "text/plain": [
       "'0b1001'"
      ]
     },
     "execution_count": 2,
     "metadata": {},
     "output_type": "execute_result"
    }
   ],
   "source": [
    "\n",
    "\"{0:#b}\".format(9)\n"
   ]
  },
  {
   "cell_type": "code",
   "execution_count": 16,
   "metadata": {
    "collapsed": false
   },
   "outputs": [
    {
     "data": {
      "text/plain": [
       "'111111'"
      ]
     },
     "execution_count": 16,
     "metadata": {},
     "output_type": "execute_result"
    }
   ],
   "source": [
    "\"{0:b}\".format(63)"
   ]
  },
  {
   "cell_type": "code",
   "execution_count": 19,
   "metadata": {
    "collapsed": false
   },
   "outputs": [
    {
     "name": "stdout",
     "output_type": "stream",
     "text": [
      "[1, 2, 3, 4]\n"
     ]
    }
   ],
   "source": [
    "l=[1,2,3,4]\n",
    "a=map(int, (x for x in l))\n",
    "print a"
   ]
  },
  {
   "cell_type": "code",
   "execution_count": 22,
   "metadata": {
    "collapsed": false
   },
   "outputs": [
    {
     "name": "stdout",
     "output_type": "stream",
     "text": [
      "['Open', 'Open', 'Senior', 'Open', 'Open', 'Senior']\n"
     ]
    }
   ],
   "source": [
    "def openOrSenior(data):\n",
    "    # Hmmm.. Where to start?\n",
    "    a=[]\n",
    "    for i in data:\n",
    "            if i[0]>=55 and i[1]>7:\n",
    "                a.append(\"Senior\")\n",
    "            else:\n",
    "                a.append(\"Open\")\n",
    "                \n",
    "    return a\n",
    "l=[[18, 20],[45, 2],[61, 12],[37, 6],[21, 21],[78, 9]]\n",
    "print openOrSenior(l)"
   ]
  },
  {
   "cell_type": "code",
   "execution_count": 42,
   "metadata": {
    "collapsed": false
   },
   "outputs": [],
   "source": [
    "def openOrSenior(data):\n",
    "    return map(str,(\"open\" if i[0]>=55 and i[1]>7 else \"close\" for i in data))"
   ]
  },
  {
   "cell_type": "code",
   "execution_count": 43,
   "metadata": {
    "collapsed": false
   },
   "outputs": [
    {
     "name": "stdout",
     "output_type": "stream",
     "text": [
      "['close', 'close', 'open', 'close', 'close', 'open']\n"
     ]
    }
   ],
   "source": [
    "l=[[18, 20],[45, 2],[61, 12],[37, 6],[21, 21],[78, 9]]\n",
    "print openOrSenior(l)"
   ]
  },
  {
   "cell_type": "code",
   "execution_count": 44,
   "metadata": {
    "collapsed": true
   },
   "outputs": [],
   "source": [
    "def is_prime(num):\n",
    "    return num > 1 and not any(num % n == 0 for n in range(2,num))\n"
   ]
  },
  {
   "cell_type": "code",
   "execution_count": 45,
   "metadata": {
    "collapsed": false
   },
   "outputs": [
    {
     "data": {
      "text/plain": [
       "False"
      ]
     },
     "execution_count": 45,
     "metadata": {},
     "output_type": "execute_result"
    }
   ],
   "source": [
    "is_prime(102)"
   ]
  },
  {
   "cell_type": "code",
   "execution_count": 81,
   "metadata": {
    "collapsed": false
   },
   "outputs": [
    {
     "name": "stdout",
     "output_type": "stream",
     "text": [
      "igPay atinlay siay oolcay \n"
     ]
    }
   ],
   "source": [
    "def pig_it(text):\n",
    "    a='' \n",
    "    p=text.split()\n",
    "    for i in p:\n",
    "        a+=i[1:]+i[0]+'ay '\n",
    "    print a\n",
    "\n",
    "if pig_it('Pig latin is cool') =='igPay atinlay siay oolcay':\n",
    "    print True"
   ]
  },
  {
   "cell_type": "code",
   "execution_count": 86,
   "metadata": {
    "collapsed": false
   },
   "outputs": [
    {
     "ename": "SyntaxError",
     "evalue": "unexpected character after line continuation character (<ipython-input-86-118f2ff42a5e>, line 4)",
     "output_type": "error",
     "traceback": [
      "\u001b[1;36m  File \u001b[1;32m\"<ipython-input-86-118f2ff42a5e>\"\u001b[1;36m, line \u001b[1;32m4\u001b[0m\n\u001b[1;33m    print ' '.join( (i[1:]+i[0]+'ay') if i is \\W else i for i in p)\u001b[0m\n\u001b[1;37m                                                                   ^\u001b[0m\n\u001b[1;31mSyntaxError\u001b[0m\u001b[1;31m:\u001b[0m unexpected character after line continuation character\n"
     ]
    }
   ],
   "source": [
    "def pig_it(text):\n",
    "    a='' \n",
    "    p=text.split()\n",
    "    print ' '.join( (i[1:]+i[0]+'ay') if i is \\W else i for i in p)\n",
    "\n",
    "pig_it('Pig latin is cool')"
   ]
  },
  {
   "cell_type": "code",
   "execution_count": 87,
   "metadata": {
    "collapsed": true
   },
   "outputs": [],
   "source": [
    "def pig_it(text):\n",
    "    lst = text.split()\n",
    "    return ' '.join( [word[1:] + word[:1] + 'ay' if word.isalpha() else word for word in lst])"
   ]
  },
  {
   "cell_type": "code",
   "execution_count": 102,
   "metadata": {
    "collapsed": false
   },
   "outputs": [],
   "source": [
    "def namelist(names):\n",
    "    if len(names)>=2:\n",
    "        return ','.join( names[i]['name'] for i in range(len(names)))\n",
    "        "
   ]
  },
  {
   "cell_type": "code",
   "execution_count": 103,
   "metadata": {
    "collapsed": false
   },
   "outputs": [
    {
     "name": "stdout",
     "output_type": "stream",
     "text": [
      "Bart,Lisa\n"
     ]
    }
   ],
   "source": [
    "print namelist([ {'name': 'Bart'}, {'name': 'Lisa'},{'name': 'Bart'}, {'name': 'Lisa'} ])"
   ]
  },
  {
   "cell_type": "code",
   "execution_count": 114,
   "metadata": {
    "collapsed": false
   },
   "outputs": [
    {
     "name": "stdout",
     "output_type": "stream",
     "text": [
      "Bart & Lisa\n"
     ]
    }
   ],
   "source": [
    "def namelist(names):\n",
    "    \n",
    "        return ','.join( names[i]['name'] for i in range(len(names)-1)) + ' & ' + names[-1]['name']\n",
    "print namelist([ {'name': 'Bart'}, {'name': 'Lisa'} ])\n",
    "    \n",
    "    "
   ]
  },
  {
   "cell_type": "code",
   "execution_count": 107,
   "metadata": {
    "collapsed": false
   },
   "outputs": [
    {
     "data": {
      "text/plain": [
       "4"
      ]
     },
     "execution_count": 107,
     "metadata": {},
     "output_type": "execute_result"
    }
   ],
   "source": [
    "nm = [1,2,3,4]\n",
    "nm[-1]"
   ]
  },
  {
   "cell_type": "code",
   "execution_count": 115,
   "metadata": {
    "collapsed": true
   },
   "outputs": [],
   "source": [
    "#Another Way\n",
    "def namelist(names):\n",
    "    if len(names) > 1:\n",
    "        return '{} & {}'.format(', '.join(name['name'] for name in names[:-1]), \n",
    "                                names[-1]['name'])\n",
    "    elif names:\n",
    "        return names[0]['name']\n",
    "    else:\n",
    "        return ''"
   ]
  },
  {
   "cell_type": "code",
   "execution_count": 1,
   "metadata": {
    "collapsed": false
   },
   "outputs": [
    {
     "data": {
      "text/plain": [
       "5"
      ]
     },
     "execution_count": 1,
     "metadata": {},
     "output_type": "execute_result"
    }
   ],
   "source": [
    "def longest_palindrome (s):\n",
    "    longest = 0\n",
    "    for left in xrange(len(s)):\n",
    "        for right in xrange(len(s), left, -1):\n",
    "            if s[left:right] in (s[left:right])[::-1]:\n",
    "                longest = max(right-left, longest)\n",
    "                break\n",
    "    return longest\n",
    "longest_palindrome('babablacksheep')"
   ]
  },
  {
   "cell_type": "code",
   "execution_count": 34,
   "metadata": {
    "collapsed": false
   },
   "outputs": [
    {
     "name": "stdout",
     "output_type": "stream",
     "text": [
      "IN\n",
      "THE\n"
     ]
    },
    {
     "data": {
      "text/plain": [
       "'The Wind in the Willows '"
      ]
     },
     "execution_count": 34,
     "metadata": {},
     "output_type": "execute_result"
    }
   ],
   "source": [
    "import string\n",
    "def title_case(title1, minor_words):\n",
    "    if len(minor_words)<1:\n",
    "        return title1.title()\n",
    "    else:\n",
    "        a=''\n",
    "        for i in title1.split()[1:]:\n",
    "            if i.lower() in minor_words.lower():\n",
    "                print i\n",
    "                a+=i.lower()+' '\n",
    "            else:\n",
    "                a+=i.title()+' '\n",
    "        return title1.split()[0].title()+' '+a       \n",
    "            \n",
    "title_case('THE WIND IN THE WILLOWS', 'the In')    "
   ]
  },
  {
   "cell_type": "code",
   "execution_count": 61,
   "metadata": {
    "collapsed": false
   },
   "outputs": [],
   "source": [
    "def title_case(title1, minor_words=''):\n",
    "    if len(minor_words.split())<=1:\n",
    "        return title1.title()\n",
    "    else:\n",
    "                    \n",
    "        a=' '.join(i.lower() if i.lower() in minor_words.lower().split() else i.title() for i in title1.split()[1:])             \n",
    "                \n",
    "                \n",
    "        return title1.split()[0].title()+' '+a"
   ]
  },
  {
   "cell_type": "code",
   "execution_count": 62,
   "metadata": {
    "collapsed": false
   },
   "outputs": [
    {
     "data": {
      "text/plain": [
       "'The Wind in the Willows'"
      ]
     },
     "execution_count": 62,
     "metadata": {},
     "output_type": "execute_result"
    }
   ],
   "source": [
    "title_case('THE WIND IN THE WILLOWS', 'the In')"
   ]
  },
  {
   "cell_type": "code",
   "execution_count": 63,
   "metadata": {
    "collapsed": false
   },
   "outputs": [
    {
     "data": {
      "text/plain": [
       "'First A Of In'"
      ]
     },
     "execution_count": 63,
     "metadata": {},
     "output_type": "execute_result"
    }
   ],
   "source": [
    "title_case('First a of in','an often into') #'First A Of In'"
   ]
  },
  {
   "cell_type": "code",
   "execution_count": 64,
   "metadata": {
    "collapsed": false
   },
   "outputs": [
    {
     "data": {
      "text/plain": [
       "'Ab'"
      ]
     },
     "execution_count": 64,
     "metadata": {},
     "output_type": "execute_result"
    }
   ],
   "source": [
    "title_case('ab','ab')"
   ]
  },
  {
   "cell_type": "code",
   "execution_count": 65,
   "metadata": {
    "collapsed": true
   },
   "outputs": [],
   "source": [
    "#Another Way\n",
    "def title_case(title, minor_words=''):\n",
    "    title = title.capitalize().split()\n",
    "    minor_words = minor_words.lower().split()\n",
    "    return ' '.join([word if word in minor_words else word.capitalize() for word in title])"
   ]
  },
  {
   "cell_type": "code",
   "execution_count": 6,
   "metadata": {
    "collapsed": false
   },
   "outputs": [
    {
     "name": "stdout",
     "output_type": "stream",
     "text": [
      "NORTH\n"
     ]
    },
    {
     "data": {
      "text/plain": [
       "0"
      ]
     },
     "execution_count": 6,
     "metadata": {},
     "output_type": "execute_result"
    }
   ],
   "source": [
    "def dirReduc(arr):\n",
    "    for i in xrange(len(arr)-1):\n",
    "        final=[]\n",
    "        print arr[i]\n",
    "        if arr[i] is 'North' :\n",
    "            \n",
    "            final.append(1)\n",
    "        elif arr[i]==\"South\" :\n",
    "            final.append(-1)\n",
    "        elif arr[i]==\"West\" :\n",
    "            final.append(2)\n",
    "        elif arr[i]==\"East\" :\n",
    "            final.append(-2)\n",
    "        else:\n",
    "            return i\n",
    "        \n",
    "    mine=final\n",
    "    print mine\n",
    "    if sum(mine)==0:\n",
    "        return []\n",
    "    elif sum(mine)%2==1:\n",
    "        return ['North']\n",
    "    elif sum(mine)%2==-1:\n",
    "        return ['South']\n",
    "    elif sum(mine)%2==0 and sum(mine)<0:\n",
    "        return ['West']*int(sum(mine))\n",
    "    else:\n",
    "        return ['East']*int(sum(mine))\n",
    "    print mine\n",
    "dirReduc(['NORTH', 'SOUTH', 'SOUTH', 'EAST', 'WEST', 'NORTH', 'WEST'])"
   ]
  },
  {
   "cell_type": "code",
   "execution_count": null,
   "metadata": {
    "collapsed": false
   },
   "outputs": [],
   "source": []
  },
  {
   "cell_type": "code",
   "execution_count": 17,
   "metadata": {
    "collapsed": false
   },
   "outputs": [],
   "source": [
    "def dirReduc(arr):\n",
    "    mine=[]\n",
    "    for i in arr:\n",
    "        print i\n",
    "        if i == 'NORTH':\n",
    "            mine.append(1)\n",
    "        elif str(i) == str(\"SOUTH\"):\n",
    "            mine.append(-1)\n",
    "        elif i == \"EAST\":\n",
    "            mine.append(2)\n",
    "        elif i == \"WEST\":\n",
    "            mine.append(-2)\n",
    "        else:\n",
    "            print 'ullo'\n",
    "    print sum(mine ) \n",
    "    if sum(mine)==0 and not sum(mine)<0:\n",
    "        return 'me'\n",
    "    elif sum(mine)%2==1:\n",
    "        return ['North']\n",
    "    elif sum(mine)%2==-1:\n",
    "        return ['South']\n",
    "    elif sum(mine)%2==0 and sum(mine)<0:\n",
    "        return ['West']\n",
    "    else:\n",
    "        return ['East']\n",
    "            "
   ]
  },
  {
   "cell_type": "code",
   "execution_count": 19,
   "metadata": {
    "collapsed": false
   },
   "outputs": [
    {
     "name": "stdout",
     "output_type": "stream",
     "text": [
      "NORTH\n",
      "SOUTH\n",
      "SOUTH\n",
      "EAST\n",
      "WEST\n",
      "NORTH\n",
      "WEST\n",
      "WEST\n",
      "-4\n"
     ]
    },
    {
     "data": {
      "text/plain": [
       "['West']"
      ]
     },
     "execution_count": 19,
     "metadata": {},
     "output_type": "execute_result"
    }
   ],
   "source": [
    "dirReduc(['NORTH', 'SOUTH', 'SOUTH', 'EAST', 'WEST', 'NORTH', 'WEST','WEST'])"
   ]
  },
  {
   "cell_type": "code",
   "execution_count": 23,
   "metadata": {
    "collapsed": false
   },
   "outputs": [
    {
     "data": {
      "text/plain": [
       "61"
      ]
     },
     "execution_count": 23,
     "metadata": {},
     "output_type": "execute_result"
    }
   ],
   "source": [
    "3662//60"
   ]
  },
  {
   "cell_type": "code",
   "execution_count": 28,
   "metadata": {
    "collapsed": true
   },
   "outputs": [],
   "source": [
    "def format_duration(seconds):\n",
    "    if seconds==0:\n",
    "        return 'now'\n",
    "    elif seconds%60==0:\n",
    "        return \"%s minutes\" % seconds/60\n",
    "    elif seconds>60 and seconds<3600:\n",
    "        return \"%s minutes and %s seconds\" %(seconds//60,seconds%60)\n",
    "    elif seconds>=3600 and seconds<86400:\n",
    "        return \"%s hour, %s minute and %s seconds\" %(seconds//3600,(seconds%3600)//60,(seconds%3600)%60)\n",
    "    elif seconds>=86400 and seconds<3153600:\n",
    "        return \"%s days, %s hours, %s minutes and %s seconds\" %(seconds//86400,(seconds%86400)//3600,"
   ]
  },
  {
   "cell_type": "code",
   "execution_count": 29,
   "metadata": {
    "collapsed": false
   },
   "outputs": [
    {
     "data": {
      "text/plain": [
       "'1 hour, 1 minute and 2 seconds'"
      ]
     },
     "execution_count": 29,
     "metadata": {},
     "output_type": "execute_result"
    }
   ],
   "source": [
    "format_duration(3662)"
   ]
  },
  {
   "cell_type": "code",
   "execution_count": 30,
   "metadata": {
    "collapsed": false
   },
   "outputs": [
    {
     "data": {
      "text/plain": [
       "'10 hour, 10 minute and 20 seconds'"
      ]
     },
     "execution_count": 30,
     "metadata": {},
     "output_type": "execute_result"
    }
   ],
   "source": [
    "format_duration(36620)"
   ]
  },
  {
   "cell_type": "code",
   "execution_count": 31,
   "metadata": {
    "collapsed": false
   },
   "outputs": [
    {
     "ename": "TypeError",
     "evalue": "not all arguments converted during string formatting",
     "output_type": "error",
     "traceback": [
      "\u001b[1;31m---------------------------------------------------------------------------\u001b[0m",
      "\u001b[1;31mTypeError\u001b[0m                                 Traceback (most recent call last)",
      "\u001b[1;32m<ipython-input-31-175c74208c20>\u001b[0m in \u001b[0;36m<module>\u001b[1;34m()\u001b[0m\n\u001b[1;32m----> 1\u001b[1;33m \u001b[0mformat_duration\u001b[0m\u001b[1;33m(\u001b[0m\u001b[1;36m366200\u001b[0m\u001b[1;33m)\u001b[0m\u001b[1;33m\u001b[0m\u001b[0m\n\u001b[0m",
      "\u001b[1;32m<ipython-input-28-92f5e061cb94>\u001b[0m in \u001b[0;36mformat_duration\u001b[1;34m(seconds)\u001b[0m\n\u001b[0;32m      9\u001b[0m         \u001b[1;32mreturn\u001b[0m \u001b[1;34m\"%s hour, %s minute and %s seconds\"\u001b[0m \u001b[1;33m%\u001b[0m\u001b[1;33m(\u001b[0m\u001b[0mseconds\u001b[0m\u001b[1;33m//\u001b[0m\u001b[1;36m3600\u001b[0m\u001b[1;33m,\u001b[0m\u001b[1;33m(\u001b[0m\u001b[0mseconds\u001b[0m\u001b[1;33m%\u001b[0m\u001b[1;36m3600\u001b[0m\u001b[1;33m)\u001b[0m\u001b[1;33m//\u001b[0m\u001b[1;36m60\u001b[0m\u001b[1;33m,\u001b[0m\u001b[1;33m(\u001b[0m\u001b[0mseconds\u001b[0m\u001b[1;33m%\u001b[0m\u001b[1;36m3600\u001b[0m\u001b[1;33m)\u001b[0m\u001b[1;33m%\u001b[0m\u001b[1;36m60\u001b[0m\u001b[1;33m)\u001b[0m\u001b[1;33m\u001b[0m\u001b[0m\n\u001b[0;32m     10\u001b[0m     \u001b[1;32melif\u001b[0m \u001b[0mseconds\u001b[0m\u001b[1;33m>=\u001b[0m\u001b[1;36m86400\u001b[0m \u001b[1;32mand\u001b[0m \u001b[0mseconds\u001b[0m\u001b[1;33m<\u001b[0m\u001b[1;36m3153600\u001b[0m\u001b[1;33m:\u001b[0m\u001b[1;33m\u001b[0m\u001b[0m\n\u001b[1;32m---> 11\u001b[1;33m         \u001b[1;32mreturn\u001b[0m \u001b[1;34m\"%s days, %s hours, %s minutes and %s seconds\"\u001b[0m \u001b[1;33m%\u001b[0m\u001b[1;33m(\u001b[0m\u001b[0mseconds\u001b[0m\u001b[1;33m//\u001b[0m\u001b[1;36m86400\u001b[0m\u001b[1;33m,\u001b[0m\u001b[1;33m(\u001b[0m\u001b[0mseconds\u001b[0m\u001b[1;33m%\u001b[0m\u001b[1;36m86400\u001b[0m\u001b[1;33m)\u001b[0m\u001b[1;33m//\u001b[0m\u001b[1;36m3600\u001b[0m\u001b[1;33m//\u001b[0m\u001b[1;36m60\u001b[0m\u001b[1;33m,\u001b[0m\u001b[0mseconds\u001b[0m\u001b[1;33m//\u001b[0m\u001b[1;36m3600\u001b[0m\u001b[1;33m,\u001b[0m\u001b[1;33m(\u001b[0m\u001b[0mseconds\u001b[0m\u001b[1;33m%\u001b[0m\u001b[1;36m3600\u001b[0m\u001b[1;33m)\u001b[0m\u001b[1;33m//\u001b[0m\u001b[1;36m60\u001b[0m\u001b[1;33m,\u001b[0m\u001b[1;33m(\u001b[0m\u001b[0mseconds\u001b[0m\u001b[1;33m%\u001b[0m\u001b[1;36m3600\u001b[0m\u001b[1;33m)\u001b[0m\u001b[1;33m%\u001b[0m\u001b[1;36m60\u001b[0m\u001b[1;33m)\u001b[0m\u001b[1;33m\u001b[0m\u001b[0m\n\u001b[0m",
      "\u001b[1;31mTypeError\u001b[0m: not all arguments converted during string formatting"
     ]
    }
   ],
   "source": [
    "format_duration(366200)"
   ]
  },
  {
   "cell_type": "code",
   "execution_count": 34,
   "metadata": {
    "collapsed": false
   },
   "outputs": [
    {
     "data": {
      "text/plain": [
       "20600"
      ]
     },
     "execution_count": 34,
     "metadata": {},
     "output_type": "execute_result"
    }
   ],
   "source": [
    "366200%86400"
   ]
  },
  {
   "cell_type": "code",
   "execution_count": 35,
   "metadata": {
    "collapsed": false
   },
   "outputs": [
    {
     "data": {
      "text/plain": [
       "5"
      ]
     },
     "execution_count": 35,
     "metadata": {},
     "output_type": "execute_result"
    }
   ],
   "source": [
    "20600//3600"
   ]
  },
  {
   "cell_type": "code",
   "execution_count": 36,
   "metadata": {
    "collapsed": false
   },
   "outputs": [
    {
     "data": {
      "text/plain": [
       "2600"
      ]
     },
     "execution_count": 36,
     "metadata": {},
     "output_type": "execute_result"
    }
   ],
   "source": [
    "20600%3600"
   ]
  },
  {
   "cell_type": "code",
   "execution_count": 37,
   "metadata": {
    "collapsed": false
   },
   "outputs": [
    {
     "data": {
      "text/plain": [
       "43"
      ]
     },
     "execution_count": 37,
     "metadata": {},
     "output_type": "execute_result"
    }
   ],
   "source": [
    "2600//60"
   ]
  },
  {
   "cell_type": "code",
   "execution_count": 38,
   "metadata": {
    "collapsed": false
   },
   "outputs": [
    {
     "data": {
      "text/plain": [
       "20"
      ]
     },
     "execution_count": 38,
     "metadata": {},
     "output_type": "execute_result"
    }
   ],
   "source": [
    "2600%60"
   ]
  },
  {
   "cell_type": "code",
   "execution_count": 39,
   "metadata": {
    "collapsed": false
   },
   "outputs": [
    {
     "data": {
      "text/plain": [
       "0"
      ]
     },
     "execution_count": 39,
     "metadata": {},
     "output_type": "execute_result"
    }
   ],
   "source": [
    "20//60"
   ]
  },
  {
   "cell_type": "code",
   "execution_count": 45,
   "metadata": {
    "collapsed": false
   },
   "outputs": [
    {
     "name": "stdout",
     "output_type": "stream",
     "text": [
      "0 0 0 6 6\n"
     ]
    }
   ],
   "source": [
    "year,days=divmod(366,31536000)\n",
    "days,hours=divmod(days,86400)\n",
    "hours,mins=divmod(hours,3600)\n",
    "mins,sec=divmod(mins,60)\n",
    "print \"%s %s %s %s %s\" %(year,days,hours,mins,sec)\n"
   ]
  },
  {
   "cell_type": "code",
   "execution_count": 59,
   "metadata": {
    "collapsed": true
   },
   "outputs": [],
   "source": [
    "def format_duration(seconds):\n",
    "    year,days=divmod(seconds,31536000)\n",
    "    days,hours=divmod(days,86400)\n",
    "    hours,mins=divmod(hours,3600)\n",
    "    print mins\n",
    "    mins,sec=divmod(mins,60)\n",
    "    print mins,sec\n",
    "    if year>0:\n",
    "        return \"%s years, %s days, %s hours, %s minutes and %s seconds\" %(year,days,hours,mins,sec)\n",
    "    elif days>0:\n",
    "        return \"%s days, %s hours, %s minutes and %s seconds\" %(days,hours,mins,sec)\n",
    "    elif hours>0:\n",
    "        return \"%s hours, %s minutes and %s seconds\" %(hours,mins,sec)\n",
    "    elif mins>0:\n",
    "        return \"%s minutes and %s seconds\" %(mins,sec)\n",
    "    elif sec>0:\n",
    "        return \"%s seconds\" %sec\n",
    "    else:\n",
    "        return \"now\""
   ]
  },
  {
   "cell_type": "code",
   "execution_count": 60,
   "metadata": {
    "collapsed": false
   },
   "outputs": [
    {
     "name": "stdout",
     "output_type": "stream",
     "text": [
      "120\n",
      "2 0\n"
     ]
    },
    {
     "data": {
      "text/plain": [
       "'2 minutes and 0 seconds'"
      ]
     },
     "execution_count": 60,
     "metadata": {},
     "output_type": "execute_result"
    }
   ],
   "source": [
    "format_duration(120)"
   ]
  },
  {
   "cell_type": "code",
   "execution_count": null,
   "metadata": {
    "collapsed": true
   },
   "outputs": [],
   "source": []
  },
  {
   "cell_type": "code",
   "execution_count": 66,
   "metadata": {
    "collapsed": false
   },
   "outputs": [
    {
     "ename": "SyntaxError",
     "evalue": "invalid syntax (<ipython-input-66-cc1e3959b091>, line 1)",
     "output_type": "error",
     "traceback": [
      "\u001b[1;36m  File \u001b[1;32m\"<ipython-input-66-cc1e3959b091>\"\u001b[1;36m, line \u001b[1;32m1\u001b[0m\n\u001b[1;33m    print '{}' {2}\u001b[0m\n\u001b[1;37m               ^\u001b[0m\n\u001b[1;31mSyntaxError\u001b[0m\u001b[1;31m:\u001b[0m invalid syntax\n"
     ]
    }
   ],
   "source": []
  },
  {
   "cell_type": "code",
   "execution_count": 95,
   "metadata": {
    "collapsed": false
   },
   "outputs": [],
   "source": [
    "def format_duration(seconds):\n",
    "    year,days=divmod(seconds,31536000)\n",
    "    days,hours=divmod(days,86400)\n",
    "    hours,mins=divmod(hours,3600)\n",
    "    mins,sec=divmod(mins,60)\n",
    "    \"\"\"if year>0:\n",
    "        return \"%s years,\"+ \"%s days,\"  %s hours, %s minutes and %s seconds\" %(year,days,hours,mins,sec)\n",
    "    elif days>0:\n",
    "        return \"%s days, %s hours, %s minutes and %s seconds\" %(days,hours,mins,sec)\n",
    "    elif hours>0:\n",
    "        return \"%s hours, %s minutes and %s seconds\" %(hours,mins,sec)\n",
    "    elif mins>0:\n",
    "        return \"%s minute and %s seconds\" %(mins,sec)\n",
    "    elif sec>0:\n",
    "        return \"%s second\" %sec\n",
    "    else:\n",
    "        return \"now\" \"\"\"\n",
    "    a=[]\n",
    "    if year>0 and not year==1:\n",
    "        a+=str(year)\n",
    "        a+=' years'\n",
    "    elif year==1:\n",
    "        a+=', '+str(year)+'year'\n",
    "        \n",
    "    elif days>0 and not days==1:\n",
    "        a.append(str(days)+' days')\n",
    "    elif days==1:\n",
    "        a+=', '+str(days)+'day'\n",
    "    elif hours>0 and not hours==1:\n",
    "        a+=', '+str(hours)+'hours'\n",
    "    elif hours==1:\n",
    "        a+=', '+str(hours)+'hour'\n",
    "    elif mins>0 and not mins==1:\n",
    "        a+=', '+str(mins)+'minutes'\n",
    "    elif mins==1:\n",
    "        a+=', '+str(mins)+'minute'\n",
    "    elif sec>0 and not sec==1:\n",
    "        a+=', '+str(sec)+'seconds'\n",
    "    elif sec==1:\n",
    "        a+=', '+str(sec)+'second'    \n",
    "    else:\n",
    "        a+='now'\n",
    "    return a    "
   ]
  },
  {
   "cell_type": "code",
   "execution_count": 94,
   "metadata": {
    "collapsed": false
   },
   "outputs": [
    {
     "name": "stdout",
     "output_type": "stream",
     "text": [
      "['4days']\n"
     ]
    }
   ],
   "source": [
    "print format_duration(360000)"
   ]
  },
  {
   "cell_type": "code",
   "execution_count": 142,
   "metadata": {
    "collapsed": false
   },
   "outputs": [],
   "source": [
    "def format_duration(seconds):\n",
    "    if seconds<0:\n",
    "        seconds=abs(seconds)\n",
    "    year,days=divmod(seconds,31536000)\n",
    "    days,hours=divmod(days,86400)\n",
    "    hours,mins=divmod(hours,3600)\n",
    "    mins,sec=divmod(mins,60)\n",
    "    a=[]\n",
    "     \n",
    "    if year>0 and not year==1:\n",
    "        a.append(str(year)+' years')\n",
    "\n",
    "    if year==1:\n",
    "        a.append(str(year)+' year')\n",
    "\n",
    "    if days>0 and not days==1:\n",
    "        a.append(str(days)+' days')\n",
    "\n",
    "    if days==1:\n",
    "        a.append(str(days)+' day')\n",
    "\n",
    "    if hours>0 and not hours==1:\n",
    "        a.append(str(hours)+' hours')\n",
    "\n",
    "    if hours==1:\n",
    "        a.append(str(hours)+' hour')\n",
    "\n",
    "    if mins>0 and not mins==1:\n",
    "        a.append(str(mins)+' minutes')\n",
    "\n",
    "    if mins==1:\n",
    "        a.append(str(mins)+' minute')\n",
    "\n",
    "    if sec>0 and not sec==1:\n",
    "        a.append(str(sec)+' seconds')\n",
    "\n",
    "    if sec==1:\n",
    "        a.append(str(sec)+' second' )\n",
    "\n",
    "    if seconds==0:\n",
    "        b= 'now'\n",
    "        \n",
    "    if len(a)>1:        \n",
    "        b=', '.join(i for i in a[:-1])\n",
    "        b+=' and '+a[-1]\n",
    "    elif len(a)==1 and seconds!=0:\n",
    "        b=a[0]\n",
    "                 \n",
    "    return b    "
   ]
  },
  {
   "cell_type": "code",
   "execution_count": 143,
   "metadata": {
    "collapsed": false
   },
   "outputs": [
    {
     "data": {
      "text/plain": [
       "'now'"
      ]
     },
     "execution_count": 143,
     "metadata": {},
     "output_type": "execute_result"
    }
   ],
   "source": [
    "format_duration(0)"
   ]
  },
  {
   "cell_type": "code",
   "execution_count": 160,
   "metadata": {
    "collapsed": false
   },
   "outputs": [],
   "source": [
    "def sum_for_list(lst):\n",
    "    a=[]\n",
    "    sums=0\n",
    "    for x in xrange(2,max(lst)):\n",
    "        for i in lst:\n",
    "            if i%x==0:\n",
    "                sums+=i\n",
    "            else:\n",
    "                sums+=0\n",
    "            a.append([x,sums])\n",
    "        sums=0    \n",
    "    return a        "
   ]
  },
  {
   "cell_type": "code",
   "execution_count": 161,
   "metadata": {
    "collapsed": false
   },
   "outputs": [
    {
     "name": "stdout",
     "output_type": "stream",
     "text": [
      "[[2, 12], [2, 12], [3, 12], [3, 27], [4, 12], [4, 12], [5, 0], [5, 15], [6, 12], [6, 12], [7, 0], [7, 0], [8, 0], [8, 0], [9, 0], [9, 0], [10, 0], [10, 0], [11, 0], [11, 0], [12, 12], [12, 12], [13, 0], [13, 0], [14, 0], [14, 0]]\n"
     ]
    }
   ],
   "source": [
    "\n",
    "print sum_for_list([12,15])"
   ]
  },
  {
   "cell_type": "code",
   "execution_count": 261,
   "metadata": {
    "collapsed": false
   },
   "outputs": [],
   "source": [
    "import itertools,math\n",
    "def prime_factors(n):\n",
    "    \"\"\"Returns all the prime factors of a positive integer\"\"\"\n",
    "    factors = []\n",
    "    d = 2\n",
    "    \n",
    "    while math.fabs(n) > 1:\n",
    "        while n % d == 0:\n",
    "            factors.append(d)\n",
    "            n /= d\n",
    "        d = d + 1\n",
    "    if n<-1:\n",
    "        factors=-factors\n",
    "    return factors\n",
    "\n",
    "def sum_for_list(lst):\n",
    "    a=[]\n",
    "    sums=0\n",
    "    b=[]*10\n",
    "    for i in lst:\n",
    "        a.append(prime_factors(i))\n",
    "    \n",
    "    a=map(int,set(list(itertools.chain.from_iterable(a))))\n",
    "    print a      \n",
    "    for i in a:\n",
    "        \n",
    "        for y in lst:\n",
    "            if y%i==0:\n",
    "                sums+=y\n",
    "                \n",
    "            else:\n",
    "                sums+=0\n",
    "        b.append([i,sums])        \n",
    "        sums=0\n",
    "    return b   \n",
    "                \n",
    "\n"
   ]
  },
  {
   "cell_type": "code",
   "execution_count": 262,
   "metadata": {
    "collapsed": false
   },
   "outputs": [
    {
     "data": {
      "text/plain": [
       "[2, 2, 2, 5, 5, 5]"
      ]
     },
     "execution_count": 262,
     "metadata": {},
     "output_type": "execute_result"
    }
   ],
   "source": [
    "pfs"
   ]
  },
  {
   "cell_type": "code",
   "execution_count": 263,
   "metadata": {
    "collapsed": false
   },
   "outputs": [
    {
     "name": "stdout",
     "output_type": "stream",
     "text": [
      "[11, 2, 3, 5, 13]\n",
      "[[2, -3462], [3, -3522], [5, -90], [11, -3432], [13, -3432]]\n"
     ]
    }
   ],
   "source": [
    "print sorted(sum_for_list([-30,-15,-45,-3432]))"
   ]
  },
  {
   "cell_type": "code",
   "execution_count": 205,
   "metadata": {
    "collapsed": false
   },
   "outputs": [
    {
     "data": {
      "text/plain": [
       "[2, 3, 5]"
      ]
     },
     "execution_count": 205,
     "metadata": {},
     "output_type": "execute_result"
    }
   ],
   "source": [
    "import itertools\n",
    "a=set(list(itertools.chain.from_iterable([[2, 2, 3], [3, 5]])))\n",
    "\n",
    "map(int,set(a))"
   ]
  },
  {
   "cell_type": "code",
   "execution_count": 255,
   "metadata": {
    "collapsed": false
   },
   "outputs": [
    {
     "name": "stdout",
     "output_type": "stream",
     "text": [
      "45: factors: [1, 3, 5, 9, 15, 45]\n",
      "53: factors: [1, 53]\n",
      "64: factors: [1, 2, 4, 8, 16, 32, 64]\n"
     ]
    }
   ],
   "source": [
    "from math import sqrt\n",
    "\n",
    "def factor(n):\n",
    "    factors = set()\n",
    "    for x in range(1, int(sqrt(n)) + 1):\n",
    "        if n % x == 0:\n",
    "            factors.add(x)\n",
    "            factors.add(n//x)\n",
    "    return sorted(factors)\n",
    " \n",
    "for i in (45, 53, 64): \n",
    "    print( \"%i: factors: %s\" % (i, factor(i)) )"
   ]
  },
  {
   "cell_type": "code",
   "execution_count": 257,
   "metadata": {
    "collapsed": false
   },
   "outputs": [
    {
     "data": {
      "text/plain": [
       "1"
      ]
     },
     "execution_count": 257,
     "metadata": {},
     "output_type": "execute_result"
    }
   ],
   "source": [
    "-99%2"
   ]
  },
  {
   "cell_type": "code",
   "execution_count": 264,
   "metadata": {
    "collapsed": true
   },
   "outputs": [],
   "source": [
    "def sum_for_list(lst):\n",
    "    factors = {i for k in lst for i in xrange(2, abs(k)+1) if not k % i}\n",
    "    prime_factors = {i for i in factors if not [j for j in factors-{i} if not i % j]}\n",
    "    return [[p, sum(e for e in lst if not e % p)] for p in sorted(prime_factors)]"
   ]
  },
  {
   "cell_type": "code",
   "execution_count": null,
   "metadata": {
    "collapsed": true
   },
   "outputs": [],
   "source": []
  }
 ],
 "metadata": {
  "kernelspec": {
   "display_name": "Python 2",
   "language": "python",
   "name": "python2"
  },
  "language_info": {
   "codemirror_mode": {
    "name": "ipython",
    "version": 2
   },
   "file_extension": ".py",
   "mimetype": "text/x-python",
   "name": "python",
   "nbconvert_exporter": "python",
   "pygments_lexer": "ipython2",
   "version": "2.7.11"
  }
 },
 "nbformat": 4,
 "nbformat_minor": 0
}
