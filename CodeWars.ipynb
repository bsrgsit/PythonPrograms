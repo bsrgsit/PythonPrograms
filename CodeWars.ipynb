{
 "cells": [
  {
   "cell_type": "code",
   "execution_count": 1,
   "metadata": {
    "collapsed": true
   },
   "outputs": [],
   "source": [
    "#4Kyu #CountingChange"
   ]
  },
  {
   "cell_type": "code",
   "execution_count": 3,
   "metadata": {
    "collapsed": false
   },
   "outputs": [
    {
     "name": "stdout",
     "output_type": "stream",
     "text": [
      "0 quarter(s) 0 dime(s) 10 nickel(s)\n",
      "0 quarter(s) 1 dime(s) 8 nickel(s)\n",
      "0 quarter(s) 2 dime(s) 6 nickel(s)\n",
      "0 quarter(s) 3 dime(s) 4 nickel(s)\n",
      "0 quarter(s) 4 dime(s) 2 nickel(s)\n",
      "0 quarter(s) 5 dime(s) 0 nickel(s)\n",
      "1 quarter(s) 0 dime(s) 5 nickel(s)\n",
      "1 quarter(s) 1 dime(s) 3 nickel(s)\n",
      "1 quarter(s) 2 dime(s) 1 nickel(s)\n",
      "2 quarter(s) 0 dime(s) 0 nickel(s)\n",
      "10\n"
     ]
    }
   ],
   "source": [
    "cents = 10\n",
    "denominations = [5,2,3]\n",
    "names = {5: \"quarter(s)\", 2: \"dime(s)\", 3 : \"nickel(s)\"}\n",
    "\n",
    "def count_combs(left, i, comb, add):\n",
    "    if add: comb.append(add)\n",
    "    if left == 0 or (i+1) == len(denominations):\n",
    "        if (i+1) == len(denominations) and left > 0:\n",
    "            comb.append( (left, denominations[i]) )\n",
    "            i += 1\n",
    "        while i < len(denominations):\n",
    "            comb.append( (0, denominations[i]) )\n",
    "            i += 1\n",
    "        print \" \".join(\"%d %s\" % (n,names[c]) for (n,c) in comb)\n",
    "        return 1\n",
    "    cur = denominations[i]\n",
    "    return sum(count_combs(left-x*cur, i+1, comb[:], (x,cur)) for x in range(0, int(left/cur)+1))\n",
    "\n",
    "print count_combs(cents, 0, [], None)"
   ]
  },
  {
   "cell_type": "code",
   "execution_count": 26,
   "metadata": {
    "collapsed": true
   },
   "outputs": [],
   "source": [
    "#shift right list"
   ]
  },
  {
   "cell_type": "code",
   "execution_count": 20,
   "metadata": {
    "collapsed": false
   },
   "outputs": [
    {
     "name": "stdout",
     "output_type": "stream",
     "text": [
      "3 2 3\n",
      "1 2 3\n",
      "0\n",
      "2\n",
      "1\n",
      "3\n",
      "2\n",
      "1\n"
     ]
    }
   ],
   "source": [
    "# Enter your code here. Read input from STDIN. Print output to STDOUT\n",
    "from collections import deque\n",
    "n,k,q=map(int,raw_input().split())\n",
    "a=map(int,raw_input().split())\n",
    "a=deque(a)\n",
    "r=0\n",
    "a.rotate(k)\n",
    "for i in range(q):\n",
    "    \n",
    "    print a[int(raw_input().strip())]\n",
    "    "
   ]
  },
  {
   "cell_type": "code",
   "execution_count": 25,
   "metadata": {
    "collapsed": false
   },
   "outputs": [
    {
     "name": "stdout",
     "output_type": "stream",
     "text": [
      "0 1 5\n",
      "5\n"
     ]
    }
   ],
   "source": [
    "#modified fibonacci\n",
    "\n",
    "a,b,n=map(int,raw_input().split())\n",
    "arr=[a,b]\n",
    "\n",
    "for i in range(n):\n",
    "    arr.append(b**2+a)\n",
    "    b=arr[-1]\n",
    "    a=arr[-2]\n",
    "print arr[n-1]  "
   ]
  },
  {
   "cell_type": "code",
   "execution_count": 15,
   "metadata": {
    "collapsed": false
   },
   "outputs": [
    {
     "data": {
      "text/plain": [
       "3"
      ]
     },
     "execution_count": 15,
     "metadata": {},
     "output_type": "execute_result"
    }
   ],
   "source": [
    "r"
   ]
  },
  {
   "cell_type": "code",
   "execution_count": 95,
   "metadata": {
    "collapsed": false
   },
   "outputs": [
    {
     "name": "stdout",
     "output_type": "stream",
     "text": [
      "10 3 2\n",
      "20\n"
     ]
    }
   ],
   "source": [
    "n,m,l=map(int,raw_input().split())\n",
    "a= {i:0 for i in range(1,n+1)}\n",
    "a[1]=1\n",
    "pos=1\n",
    "while True:\n",
    "    if a[pos]==m:\n",
    "        \n",
    "        break\n",
    "    \n",
    "        \n",
    "    elif a[pos]%2==1:\n",
    "        \n",
    "        pos=(pos+l+1)%len(a)\n",
    "        if pos==0:\n",
    "            pos=len(a)\n",
    "        a[pos]+=1\n",
    "    elif a[pos]%2==0:\n",
    "        pos=(pos-l-1)%len(a)\n",
    "        if pos==0:\n",
    "            pos=len(a)\n",
    "        \n",
    "        a[pos]+=1\n",
    "    \n",
    "        \n",
    "        \n",
    "print sum(a.values())-1"
   ]
  },
  {
   "cell_type": "code",
   "execution_count": 110,
   "metadata": {
    "collapsed": false
   },
   "outputs": [
    {
     "data": {
      "text/plain": [
       "[0, 1, 1, 2]"
      ]
     },
     "execution_count": 110,
     "metadata": {},
     "output_type": "execute_result"
    }
   ],
   "source": [
    "l=[2,1,1,0]\n",
    "l=sorted(l)\n",
    "for i in range(1,len(l)):\n",
    "    if l[i]\n",
    "    "
   ]
  },
  {
   "cell_type": "code",
   "execution_count": null,
   "metadata": {
    "collapsed": false
   },
   "outputs": [],
   "source": []
  },
  {
   "cell_type": "code",
   "execution_count": null,
   "metadata": {
    "collapsed": false
   },
   "outputs": [],
   "source": []
  },
  {
   "cell_type": "code",
   "execution_count": null,
   "metadata": {
    "collapsed": false
   },
   "outputs": [],
   "source": []
  },
  {
   "cell_type": "code",
   "execution_count": null,
   "metadata": {
    "collapsed": false
   },
   "outputs": [],
   "source": []
  },
  {
   "cell_type": "code",
   "execution_count": null,
   "metadata": {
    "collapsed": true
   },
   "outputs": [],
   "source": []
  }
 ],
 "metadata": {
  "kernelspec": {
   "display_name": "Python 2",
   "language": "python",
   "name": "python2"
  },
  "language_info": {
   "codemirror_mode": {
    "name": "ipython",
    "version": 2
   },
   "file_extension": ".py",
   "mimetype": "text/x-python",
   "name": "python",
   "nbconvert_exporter": "python",
   "pygments_lexer": "ipython2",
   "version": "2.7.11"
  }
 },
 "nbformat": 4,
 "nbformat_minor": 0
}
