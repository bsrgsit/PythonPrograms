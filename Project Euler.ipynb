{
 "cells": [
  {
   "cell_type": "code",
   "execution_count": 1,
   "metadata": {
    "collapsed": true
   },
   "outputs": [],
   "source": [
    "#ProjectEuler131\n",
    "def rwh_primes(n):\n",
    "    \n",
    "    \"\"\" Returns  a list of primes < n \"\"\"\n",
    "    sieve = [True] * n\n",
    "    for i in xrange(3,int(n**0.5)+1,2):\n",
    "        if sieve[i]:\n",
    "            sieve[i*i::2*i]=[False]*((n-i*i-1)/(2*i)+1)\n",
    "    return [2] + [i for i in xrange(3,n,2) if sieve[i]]"
   ]
  },
  {
   "cell_type": "code",
   "execution_count": 3,
   "metadata": {
    "collapsed": false
   },
   "outputs": [
    {
     "data": {
      "text/plain": [
       "[2,\n",
       " 3,\n",
       " 5,\n",
       " 7,\n",
       " 11,\n",
       " 13,\n",
       " 17,\n",
       " 19,\n",
       " 23,\n",
       " 29,\n",
       " 31,\n",
       " 37,\n",
       " 41,\n",
       " 43,\n",
       " 47,\n",
       " 53,\n",
       " 59,\n",
       " 61,\n",
       " 67,\n",
       " 71,\n",
       " 73,\n",
       " 79,\n",
       " 83,\n",
       " 89,\n",
       " 97]"
      ]
     },
     "execution_count": 3,
     "metadata": {},
     "output_type": "execute_result"
    }
   ],
   "source": [
    "rwh_primes(100)"
   ]
  },
  {
   "cell_type": "code",
   "execution_count": 66,
   "metadata": {
    "collapsed": false
   },
   "outputs": [
    {
     "name": "stdout",
     "output_type": "stream",
     "text": [
      "2\n",
      "3 5 8\n",
      "[]\n",
      "3 7 8\n",
      "[]\n"
     ]
    }
   ],
   "source": [
    "n=int(raw_input())\n",
    "lst=[]\n",
    "for i in range(n):\n",
    "    a,b,c=raw_input().split()\n",
    "    for j in range(1,int(c)+1):\n",
    "        for k in range(1,int(c)+1):\n",
    "            \n",
    "            if float(j)/k<(float(a)/float(b)):\n",
    "                lst.append([j,k])\n",
    "            else: break\n",
    "                \n",
    "    print lst"
   ]
  },
  {
   "cell_type": "code",
   "execution_count": 2,
   "metadata": {
    "collapsed": false
   },
   "outputs": [
    {
     "name": "stdout",
     "output_type": "stream",
     "text": [
      "1 6\n"
     ]
    }
   ],
   "source": [
    "lst={}\n",
    "c=8\n",
    "a=1\n",
    "b=5\n",
    "for j in range(1,int(c)+1):\n",
    "        for k in range(1,int(c)+1):\n",
    "            \n",
    "            if float(j)/k<(float(a)/int(b)) :\n",
    "                lst.update({float(j)/k:[j,k]})\n",
    "            else: continue\n",
    "print \"%s %s\" %(lst.values()[-1][0],lst.values()[-1][1])                "
   ]
  },
  {
   "cell_type": "code",
   "execution_count": 112,
   "metadata": {
    "collapsed": false
   },
   "outputs": [
    {
     "name": "stdout",
     "output_type": "stream",
     "text": [
      "1 6\n"
     ]
    }
   ],
   "source": [
    "print \"%s %s\" %(lst.values()[-1][0],lst.values()[-1][1])"
   ]
  },
  {
   "cell_type": "code",
   "execution_count": 51,
   "metadata": {
    "collapsed": false
   },
   "outputs": [
    {
     "name": "stdout",
     "output_type": "stream",
     "text": [
      "1\n",
      "6 7 8\n"
     ]
    }
   ],
   "source": [
    "from collections import OrderedDict\n",
    "lst={}\n",
    "for i in range(int(raw_input())):\n",
    "    a,b,c=raw_input().split()\n",
    "\n",
    "    for j in range(1,int(c)+1):\n",
    "            for k in range(1,int(c)+1):\n",
    "\n",
    "                if float(j)/k<(float(a)/int(b)) :\n",
    "                    lst.update({float(j)/k:[j,k]})\n",
    "                else: continue\n",
    "    \n",
    "    \n",
    "    #print \"%s %s\" %(sorted(lst.values())[-1][0],sorted(lst.values())[-1][1])\n",
    "    #print a,b,c"
   ]
  },
  {
   "cell_type": "code",
   "execution_count": 55,
   "metadata": {
    "collapsed": false
   },
   "outputs": [
    {
     "data": {
      "text/plain": [
       "{0.125: [1, 8],\n",
       " 0.14285714285714285: [1, 7],\n",
       " 0.16666666666666666: [1, 6],\n",
       " 0.2: [1, 5],\n",
       " 0.25: [2, 8],\n",
       " 0.2857142857142857: [2, 7],\n",
       " 0.3333333333333333: [2, 6],\n",
       " 0.375: [3, 8],\n",
       " 0.4: [2, 5],\n",
       " 0.42857142857142855: [3, 7],\n",
       " 0.5: [4, 8],\n",
       " 0.5714285714285714: [4, 7],\n",
       " 0.6: [3, 5],\n",
       " 0.625: [5, 8],\n",
       " 0.6666666666666666: [4, 6],\n",
       " 0.7142857142857143: [5, 7],\n",
       " 0.75: [6, 8],\n",
       " 0.8: [4, 5],\n",
       " 0.8333333333333334: [5, 6]}"
      ]
     },
     "execution_count": 55,
     "metadata": {},
     "output_type": "execute_result"
    }
   ],
   "source": [
    "lst"
   ]
  },
  {
   "cell_type": "code",
   "execution_count": null,
   "metadata": {
    "collapsed": false
   },
   "outputs": [],
   "source": []
  },
  {
   "cell_type": "code",
   "execution_count": null,
   "metadata": {
    "collapsed": true
   },
   "outputs": [],
   "source": []
  }
 ],
 "metadata": {
  "kernelspec": {
   "display_name": "Python 2",
   "language": "python",
   "name": "python2"
  },
  "language_info": {
   "codemirror_mode": {
    "name": "ipython",
    "version": 2
   },
   "file_extension": ".py",
   "mimetype": "text/x-python",
   "name": "python",
   "nbconvert_exporter": "python",
   "pygments_lexer": "ipython2",
   "version": "2.7.11"
  }
 },
 "nbformat": 4,
 "nbformat_minor": 0
}
