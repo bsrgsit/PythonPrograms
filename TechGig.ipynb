{
 "cells": [
  {
   "cell_type": "code",
   "execution_count": 1,
   "metadata": {
    "collapsed": false
   },
   "outputs": [
    {
     "ename": "IndentationError",
     "evalue": "expected an indented block (<ipython-input-1-1eb3f3c8f665>, line 6)",
     "output_type": "error",
     "traceback": [
      "\u001b[1;36m  File \u001b[1;32m\"<ipython-input-1-1eb3f3c8f665>\"\u001b[1;36m, line \u001b[1;32m6\u001b[0m\n\u001b[1;33m    \u001b[0m\n\u001b[1;37m    ^\u001b[0m\n\u001b[1;31mIndentationError\u001b[0m\u001b[1;31m:\u001b[0m expected an indented block\n"
     ]
    }
   ],
   "source": [
    "def comparison(lst1,lst2):\n",
    "    if len(lst1)!=len(lst2):\n",
    "        return 'Invalid'\n",
    "    elif all(i>0 for i in lst1) and all(i>0 for i in lst2) :\n",
    "        \n",
    "        "
   ]
  },
  {
   "cell_type": "code",
   "execution_count": 21,
   "metadata": {
    "collapsed": false
   },
   "outputs": [
    {
     "name": "stdout",
     "output_type": "stream",
     "text": [
      "[1, 2, 3, 4, 5]\n",
      "[1, 2, 3, 4, 5]\n",
      "yes\n"
     ]
    }
   ],
   "source": [
    "lst1=[1,2,3,4,5,2,1]\n",
    "lst2=[3,4,1,5,2,1,2]\n",
    "\n",
    "import collections \n",
    "counter1=collections.Counter(lst1)\n",
    "counter2=collections.Counter(lst2)\n",
    "if not cmp(dict(counter1),dict(counter2)):\n",
    "    \n",
    "    print 'yes'\n",
    "else:\n",
    "    print 'nay'"
   ]
  },
  {
   "cell_type": "code",
   "execution_count": 58,
   "metadata": {
    "collapsed": false
   },
   "outputs": [
    {
     "data": {
      "text/plain": [
       "True"
      ]
     },
     "execution_count": 58,
     "metadata": {},
     "output_type": "execute_result"
    }
   ],
   "source": [
    "lst1=[1,2,3,4,5,2,1]\n",
    "lst2=[3,4,1,5,2,1,5,4]\n",
    "#all(i for i in lst1)==all(i for i in lst2)\n",
    "all(i>0 for i in lst1) or all(i>0 for i in lst2)"
   ]
  },
  {
   "cell_type": "code",
   "execution_count": 59,
   "metadata": {
    "collapsed": true
   },
   "outputs": [],
   "source": [
    "def collegecomparison(input1,input2,input3):\n",
    "\n",
    "    if len(input2)!=input1 or len(input3)!=input1:\n",
    "        return 'Invalid'\n",
    "    elif all(i>0 for i in input2) and all(i>0 for i in input3):\n",
    "        counter1=collections.Counter(input2)\n",
    "        counter2=collections.Counter(input3)\n",
    "        if not cmp(dict(counter1),dict(counter2)):\n",
    "            return 'Equal'\n",
    "        else:\n",
    "            return 'Unequal'\n",
    "    else:\n",
    "        return 'Invalid'\n",
    "\n"
   ]
  },
  {
   "cell_type": "code",
   "execution_count": 60,
   "metadata": {
    "collapsed": false
   },
   "outputs": [
    {
     "data": {
      "text/plain": [
       "'Invalid'"
      ]
     },
     "execution_count": 60,
     "metadata": {},
     "output_type": "execute_result"
    }
   ],
   "source": [
    "collegecomparison(7,lst1,lst2)"
   ]
  },
  {
   "cell_type": "code",
   "execution_count": null,
   "metadata": {
    "collapsed": true
   },
   "outputs": [],
   "source": []
  }
 ],
 "metadata": {
  "kernelspec": {
   "display_name": "Python 2",
   "language": "python",
   "name": "python2"
  },
  "language_info": {
   "codemirror_mode": {
    "name": "ipython",
    "version": 2
   },
   "file_extension": ".py",
   "mimetype": "text/x-python",
   "name": "python",
   "nbconvert_exporter": "python",
   "pygments_lexer": "ipython2",
   "version": "2.7.11"
  }
 },
 "nbformat": 4,
 "nbformat_minor": 0
}
